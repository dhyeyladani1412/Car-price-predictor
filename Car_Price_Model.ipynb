{
 "cells": [
  {
   "cell_type": "code",
   "execution_count": null,
   "id": "17314d74-f0f5-4060-ade2-0c37e25dce37",
   "metadata": {},
   "outputs": [],
   "source": [
    "import pandas as pd\n",
    "import numpy as np\n",
    "\n",
    "from sklearn.model_selection import train_test_split\n",
    "from sklearn.linear_model import LinearRegression\n",
    "from sklearn.model_selection import train_test_split, cross_val_score\n",
    "from sklearn.linear_model import LinearRegression\n",
    "from sklearn.metrics import mean_squared_error, r2_score\n",
    "from sklearn.model_selection import train_test_split, cross_val_score\n",
    "from sklearn.linear_model import LinearRegression\n",
    "from sklearn.metrics import mean_squared_error, r2_score\n",
    "from sklearn.svm import SVR\n",
    "from sklearn.ensemble import GradientBoostingRegressor\n",
    "from sklearn.metrics import mean_squared_error, r2_score\n",
    "from sklearn.tree import DecisionTreeRegressor\n",
    "import matplotlib.pyplot as plt\n",
    "from sklearn.model_selection import cross_val_score\n",
    "from sklearn.metrics import r2_score, mean_absolute_error, mean_squared_error\n",
    "import numpy as np\n",
    "from sklearn.model_selection import GridSearchCV\n",
    "import matplotlib.pyplot as plt\n",
    "import seaborn as sns\n",
    "from sklearn.ensemble import RandomForestRegressor, GradientBoostingRegressor\n",
    "import joblib\n",
    "from flask import Flask, render_template, request\n",
    "import pickle\n",
    "import pandas as pd"
   ]
  },
  {
   "cell_type": "code",
   "execution_count": 3,
   "id": "ae833e6d-41fb-46bf-9929-f30d593be776",
   "metadata": {},
   "outputs": [],
   "source": [
    "cars_data = pd.read_csv('./Cardetails.csv')"
   ]
  },
  {
   "cell_type": "code",
   "execution_count": 4,
   "id": "b187fbd1-b9ad-4a4b-b19b-8cd077163268",
   "metadata": {},
   "outputs": [
    {
     "data": {
      "text/html": [
       "<div>\n",
       "<style scoped>\n",
       "    .dataframe tbody tr th:only-of-type {\n",
       "        vertical-align: middle;\n",
       "    }\n",
       "\n",
       "    .dataframe tbody tr th {\n",
       "        vertical-align: top;\n",
       "    }\n",
       "\n",
       "    .dataframe thead th {\n",
       "        text-align: right;\n",
       "    }\n",
       "</style>\n",
       "<table border=\"1\" class=\"dataframe\">\n",
       "  <thead>\n",
       "    <tr style=\"text-align: right;\">\n",
       "      <th></th>\n",
       "      <th>name</th>\n",
       "      <th>year</th>\n",
       "      <th>selling_price</th>\n",
       "      <th>km_driven</th>\n",
       "      <th>fuel</th>\n",
       "      <th>seller_type</th>\n",
       "      <th>transmission</th>\n",
       "      <th>owner</th>\n",
       "      <th>mileage</th>\n",
       "      <th>engine</th>\n",
       "      <th>max_power</th>\n",
       "      <th>torque</th>\n",
       "      <th>seats</th>\n",
       "    </tr>\n",
       "  </thead>\n",
       "  <tbody>\n",
       "    <tr>\n",
       "      <th>0</th>\n",
       "      <td>Maruti Swift Dzire VDI</td>\n",
       "      <td>2014</td>\n",
       "      <td>450000</td>\n",
       "      <td>145500</td>\n",
       "      <td>Diesel</td>\n",
       "      <td>Individual</td>\n",
       "      <td>Manual</td>\n",
       "      <td>First Owner</td>\n",
       "      <td>23.4 kmpl</td>\n",
       "      <td>1248 CC</td>\n",
       "      <td>74 bhp</td>\n",
       "      <td>190Nm@ 2000rpm</td>\n",
       "      <td>5.0</td>\n",
       "    </tr>\n",
       "    <tr>\n",
       "      <th>1</th>\n",
       "      <td>Skoda Rapid 1.5 TDI Ambition</td>\n",
       "      <td>2014</td>\n",
       "      <td>370000</td>\n",
       "      <td>120000</td>\n",
       "      <td>Diesel</td>\n",
       "      <td>Individual</td>\n",
       "      <td>Manual</td>\n",
       "      <td>Second Owner</td>\n",
       "      <td>21.14 kmpl</td>\n",
       "      <td>1498 CC</td>\n",
       "      <td>103.52 bhp</td>\n",
       "      <td>250Nm@ 1500-2500rpm</td>\n",
       "      <td>5.0</td>\n",
       "    </tr>\n",
       "    <tr>\n",
       "      <th>2</th>\n",
       "      <td>Honda City 2017-2020 EXi</td>\n",
       "      <td>2006</td>\n",
       "      <td>158000</td>\n",
       "      <td>140000</td>\n",
       "      <td>Petrol</td>\n",
       "      <td>Individual</td>\n",
       "      <td>Manual</td>\n",
       "      <td>Third Owner</td>\n",
       "      <td>17.7 kmpl</td>\n",
       "      <td>1497 CC</td>\n",
       "      <td>78 bhp</td>\n",
       "      <td>12.7@ 2,700(kgm@ rpm)</td>\n",
       "      <td>5.0</td>\n",
       "    </tr>\n",
       "    <tr>\n",
       "      <th>3</th>\n",
       "      <td>Hyundai i20 Sportz Diesel</td>\n",
       "      <td>2010</td>\n",
       "      <td>225000</td>\n",
       "      <td>127000</td>\n",
       "      <td>Diesel</td>\n",
       "      <td>Individual</td>\n",
       "      <td>Manual</td>\n",
       "      <td>First Owner</td>\n",
       "      <td>23.0 kmpl</td>\n",
       "      <td>1396 CC</td>\n",
       "      <td>90 bhp</td>\n",
       "      <td>22.4 kgm at 1750-2750rpm</td>\n",
       "      <td>5.0</td>\n",
       "    </tr>\n",
       "    <tr>\n",
       "      <th>4</th>\n",
       "      <td>Maruti Swift VXI BSIII</td>\n",
       "      <td>2007</td>\n",
       "      <td>130000</td>\n",
       "      <td>120000</td>\n",
       "      <td>Petrol</td>\n",
       "      <td>Individual</td>\n",
       "      <td>Manual</td>\n",
       "      <td>First Owner</td>\n",
       "      <td>16.1 kmpl</td>\n",
       "      <td>1298 CC</td>\n",
       "      <td>88.2 bhp</td>\n",
       "      <td>11.5@ 4,500(kgm@ rpm)</td>\n",
       "      <td>5.0</td>\n",
       "    </tr>\n",
       "  </tbody>\n",
       "</table>\n",
       "</div>"
      ],
      "text/plain": [
       "                           name  year  selling_price  km_driven    fuel  \\\n",
       "0        Maruti Swift Dzire VDI  2014         450000     145500  Diesel   \n",
       "1  Skoda Rapid 1.5 TDI Ambition  2014         370000     120000  Diesel   \n",
       "2      Honda City 2017-2020 EXi  2006         158000     140000  Petrol   \n",
       "3     Hyundai i20 Sportz Diesel  2010         225000     127000  Diesel   \n",
       "4        Maruti Swift VXI BSIII  2007         130000     120000  Petrol   \n",
       "\n",
       "  seller_type transmission         owner     mileage   engine   max_power  \\\n",
       "0  Individual       Manual   First Owner   23.4 kmpl  1248 CC      74 bhp   \n",
       "1  Individual       Manual  Second Owner  21.14 kmpl  1498 CC  103.52 bhp   \n",
       "2  Individual       Manual   Third Owner   17.7 kmpl  1497 CC      78 bhp   \n",
       "3  Individual       Manual   First Owner   23.0 kmpl  1396 CC      90 bhp   \n",
       "4  Individual       Manual   First Owner   16.1 kmpl  1298 CC    88.2 bhp   \n",
       "\n",
       "                     torque  seats  \n",
       "0            190Nm@ 2000rpm    5.0  \n",
       "1       250Nm@ 1500-2500rpm    5.0  \n",
       "2     12.7@ 2,700(kgm@ rpm)    5.0  \n",
       "3  22.4 kgm at 1750-2750rpm    5.0  \n",
       "4     11.5@ 4,500(kgm@ rpm)    5.0  "
      ]
     },
     "execution_count": 4,
     "metadata": {},
     "output_type": "execute_result"
    }
   ],
   "source": [
    "cars_data.head()"
   ]
  },
  {
   "cell_type": "code",
   "execution_count": 5,
   "id": "b8ac1dc0-b1f8-4035-a05f-522177b85cf8",
   "metadata": {},
   "outputs": [],
   "source": [
    "cars_data.drop(columns=['torque'], inplace=True)"
   ]
  },
  {
   "cell_type": "code",
   "execution_count": 6,
   "id": "45f085de-8e8e-4374-8392-53aff633268f",
   "metadata": {},
   "outputs": [
    {
     "data": {
      "text/html": [
       "<div>\n",
       "<style scoped>\n",
       "    .dataframe tbody tr th:only-of-type {\n",
       "        vertical-align: middle;\n",
       "    }\n",
       "\n",
       "    .dataframe tbody tr th {\n",
       "        vertical-align: top;\n",
       "    }\n",
       "\n",
       "    .dataframe thead th {\n",
       "        text-align: right;\n",
       "    }\n",
       "</style>\n",
       "<table border=\"1\" class=\"dataframe\">\n",
       "  <thead>\n",
       "    <tr style=\"text-align: right;\">\n",
       "      <th></th>\n",
       "      <th>name</th>\n",
       "      <th>year</th>\n",
       "      <th>selling_price</th>\n",
       "      <th>km_driven</th>\n",
       "      <th>fuel</th>\n",
       "      <th>seller_type</th>\n",
       "      <th>transmission</th>\n",
       "      <th>owner</th>\n",
       "      <th>mileage</th>\n",
       "      <th>engine</th>\n",
       "      <th>max_power</th>\n",
       "      <th>seats</th>\n",
       "    </tr>\n",
       "  </thead>\n",
       "  <tbody>\n",
       "    <tr>\n",
       "      <th>0</th>\n",
       "      <td>Maruti Swift Dzire VDI</td>\n",
       "      <td>2014</td>\n",
       "      <td>450000</td>\n",
       "      <td>145500</td>\n",
       "      <td>Diesel</td>\n",
       "      <td>Individual</td>\n",
       "      <td>Manual</td>\n",
       "      <td>First Owner</td>\n",
       "      <td>23.4 kmpl</td>\n",
       "      <td>1248 CC</td>\n",
       "      <td>74 bhp</td>\n",
       "      <td>5.0</td>\n",
       "    </tr>\n",
       "    <tr>\n",
       "      <th>1</th>\n",
       "      <td>Skoda Rapid 1.5 TDI Ambition</td>\n",
       "      <td>2014</td>\n",
       "      <td>370000</td>\n",
       "      <td>120000</td>\n",
       "      <td>Diesel</td>\n",
       "      <td>Individual</td>\n",
       "      <td>Manual</td>\n",
       "      <td>Second Owner</td>\n",
       "      <td>21.14 kmpl</td>\n",
       "      <td>1498 CC</td>\n",
       "      <td>103.52 bhp</td>\n",
       "      <td>5.0</td>\n",
       "    </tr>\n",
       "    <tr>\n",
       "      <th>2</th>\n",
       "      <td>Honda City 2017-2020 EXi</td>\n",
       "      <td>2006</td>\n",
       "      <td>158000</td>\n",
       "      <td>140000</td>\n",
       "      <td>Petrol</td>\n",
       "      <td>Individual</td>\n",
       "      <td>Manual</td>\n",
       "      <td>Third Owner</td>\n",
       "      <td>17.7 kmpl</td>\n",
       "      <td>1497 CC</td>\n",
       "      <td>78 bhp</td>\n",
       "      <td>5.0</td>\n",
       "    </tr>\n",
       "    <tr>\n",
       "      <th>3</th>\n",
       "      <td>Hyundai i20 Sportz Diesel</td>\n",
       "      <td>2010</td>\n",
       "      <td>225000</td>\n",
       "      <td>127000</td>\n",
       "      <td>Diesel</td>\n",
       "      <td>Individual</td>\n",
       "      <td>Manual</td>\n",
       "      <td>First Owner</td>\n",
       "      <td>23.0 kmpl</td>\n",
       "      <td>1396 CC</td>\n",
       "      <td>90 bhp</td>\n",
       "      <td>5.0</td>\n",
       "    </tr>\n",
       "    <tr>\n",
       "      <th>4</th>\n",
       "      <td>Maruti Swift VXI BSIII</td>\n",
       "      <td>2007</td>\n",
       "      <td>130000</td>\n",
       "      <td>120000</td>\n",
       "      <td>Petrol</td>\n",
       "      <td>Individual</td>\n",
       "      <td>Manual</td>\n",
       "      <td>First Owner</td>\n",
       "      <td>16.1 kmpl</td>\n",
       "      <td>1298 CC</td>\n",
       "      <td>88.2 bhp</td>\n",
       "      <td>5.0</td>\n",
       "    </tr>\n",
       "  </tbody>\n",
       "</table>\n",
       "</div>"
      ],
      "text/plain": [
       "                           name  year  selling_price  km_driven    fuel  \\\n",
       "0        Maruti Swift Dzire VDI  2014         450000     145500  Diesel   \n",
       "1  Skoda Rapid 1.5 TDI Ambition  2014         370000     120000  Diesel   \n",
       "2      Honda City 2017-2020 EXi  2006         158000     140000  Petrol   \n",
       "3     Hyundai i20 Sportz Diesel  2010         225000     127000  Diesel   \n",
       "4        Maruti Swift VXI BSIII  2007         130000     120000  Petrol   \n",
       "\n",
       "  seller_type transmission         owner     mileage   engine   max_power  \\\n",
       "0  Individual       Manual   First Owner   23.4 kmpl  1248 CC      74 bhp   \n",
       "1  Individual       Manual  Second Owner  21.14 kmpl  1498 CC  103.52 bhp   \n",
       "2  Individual       Manual   Third Owner   17.7 kmpl  1497 CC      78 bhp   \n",
       "3  Individual       Manual   First Owner   23.0 kmpl  1396 CC      90 bhp   \n",
       "4  Individual       Manual   First Owner   16.1 kmpl  1298 CC    88.2 bhp   \n",
       "\n",
       "   seats  \n",
       "0    5.0  \n",
       "1    5.0  \n",
       "2    5.0  \n",
       "3    5.0  \n",
       "4    5.0  "
      ]
     },
     "execution_count": 6,
     "metadata": {},
     "output_type": "execute_result"
    }
   ],
   "source": [
    "cars_data.head()"
   ]
  },
  {
   "cell_type": "code",
   "execution_count": 7,
   "id": "bc46a63f-6685-47e2-9d47-118fb2803bc4",
   "metadata": {},
   "outputs": [
    {
     "data": {
      "text/plain": [
       "(8128, 12)"
      ]
     },
     "execution_count": 7,
     "metadata": {},
     "output_type": "execute_result"
    }
   ],
   "source": [
    "cars_data.shape"
   ]
  },
  {
   "cell_type": "code",
   "execution_count": 8,
   "id": "d0b50ad4-adae-4b06-8f4f-77d0c269cd55",
   "metadata": {},
   "outputs": [],
   "source": [
    "#preprocessing"
   ]
  },
  {
   "cell_type": "code",
   "execution_count": 9,
   "id": "e0ed5366-65f8-4b7e-aa91-1be5970c233c",
   "metadata": {},
   "outputs": [],
   "source": [
    "#NULL ChecK"
   ]
  },
  {
   "cell_type": "code",
   "execution_count": 10,
   "id": "28dbfd1f-67a6-46c5-8027-372fff05e7fd",
   "metadata": {},
   "outputs": [
    {
     "data": {
      "text/plain": [
       "name               0\n",
       "year               0\n",
       "selling_price      0\n",
       "km_driven          0\n",
       "fuel               0\n",
       "seller_type        0\n",
       "transmission       0\n",
       "owner              0\n",
       "mileage          221\n",
       "engine           221\n",
       "max_power        215\n",
       "seats            221\n",
       "dtype: int64"
      ]
     },
     "execution_count": 10,
     "metadata": {},
     "output_type": "execute_result"
    }
   ],
   "source": [
    "cars_data.isnull().sum()"
   ]
  },
  {
   "cell_type": "code",
   "execution_count": 11,
   "id": "26406601-cb1e-4bf7-9942-daef1f17a1ff",
   "metadata": {},
   "outputs": [],
   "source": [
    "cars_data.dropna(inplace=True)"
   ]
  },
  {
   "cell_type": "code",
   "execution_count": 12,
   "id": "0debecdd-f18f-4713-b6d4-2082fab466dd",
   "metadata": {},
   "outputs": [
    {
     "data": {
      "text/plain": [
       "(7907, 12)"
      ]
     },
     "execution_count": 12,
     "metadata": {},
     "output_type": "execute_result"
    }
   ],
   "source": [
    "cars_data.shape"
   ]
  },
  {
   "cell_type": "code",
   "execution_count": 13,
   "id": "38536a36-5c8f-475b-b6d8-e8fe3dfd0ba9",
   "metadata": {},
   "outputs": [],
   "source": [
    "#Duplicate Check"
   ]
  },
  {
   "cell_type": "code",
   "execution_count": 14,
   "id": "b1460765-a24e-4663-b6f6-9a7443510900",
   "metadata": {},
   "outputs": [
    {
     "data": {
      "text/plain": [
       "1189"
      ]
     },
     "execution_count": 14,
     "metadata": {},
     "output_type": "execute_result"
    }
   ],
   "source": [
    "cars_data.duplicated().sum()"
   ]
  },
  {
   "cell_type": "code",
   "execution_count": 15,
   "id": "0aff2594-ed72-474b-bcf0-3d2642c56544",
   "metadata": {},
   "outputs": [],
   "source": [
    "cars_data.drop_duplicates(inplace=True)"
   ]
  },
  {
   "cell_type": "code",
   "execution_count": 16,
   "id": "d25928f2-c89f-4b16-ac83-7be729ad3ca8",
   "metadata": {},
   "outputs": [
    {
     "data": {
      "text/plain": [
       "(6718, 12)"
      ]
     },
     "execution_count": 16,
     "metadata": {},
     "output_type": "execute_result"
    }
   ],
   "source": [
    "cars_data.shape"
   ]
  },
  {
   "cell_type": "code",
   "execution_count": 17,
   "id": "a2cded35-1619-4ce4-acc9-402e2aee6ccd",
   "metadata": {},
   "outputs": [
    {
     "data": {
      "text/html": [
       "<div>\n",
       "<style scoped>\n",
       "    .dataframe tbody tr th:only-of-type {\n",
       "        vertical-align: middle;\n",
       "    }\n",
       "\n",
       "    .dataframe tbody tr th {\n",
       "        vertical-align: top;\n",
       "    }\n",
       "\n",
       "    .dataframe thead th {\n",
       "        text-align: right;\n",
       "    }\n",
       "</style>\n",
       "<table border=\"1\" class=\"dataframe\">\n",
       "  <thead>\n",
       "    <tr style=\"text-align: right;\">\n",
       "      <th></th>\n",
       "      <th>name</th>\n",
       "      <th>year</th>\n",
       "      <th>selling_price</th>\n",
       "      <th>km_driven</th>\n",
       "      <th>fuel</th>\n",
       "      <th>seller_type</th>\n",
       "      <th>transmission</th>\n",
       "      <th>owner</th>\n",
       "      <th>mileage</th>\n",
       "      <th>engine</th>\n",
       "      <th>max_power</th>\n",
       "      <th>seats</th>\n",
       "    </tr>\n",
       "  </thead>\n",
       "  <tbody>\n",
       "    <tr>\n",
       "      <th>0</th>\n",
       "      <td>Maruti Swift Dzire VDI</td>\n",
       "      <td>2014</td>\n",
       "      <td>450000</td>\n",
       "      <td>145500</td>\n",
       "      <td>Diesel</td>\n",
       "      <td>Individual</td>\n",
       "      <td>Manual</td>\n",
       "      <td>First Owner</td>\n",
       "      <td>23.4 kmpl</td>\n",
       "      <td>1248 CC</td>\n",
       "      <td>74 bhp</td>\n",
       "      <td>5.0</td>\n",
       "    </tr>\n",
       "    <tr>\n",
       "      <th>1</th>\n",
       "      <td>Skoda Rapid 1.5 TDI Ambition</td>\n",
       "      <td>2014</td>\n",
       "      <td>370000</td>\n",
       "      <td>120000</td>\n",
       "      <td>Diesel</td>\n",
       "      <td>Individual</td>\n",
       "      <td>Manual</td>\n",
       "      <td>Second Owner</td>\n",
       "      <td>21.14 kmpl</td>\n",
       "      <td>1498 CC</td>\n",
       "      <td>103.52 bhp</td>\n",
       "      <td>5.0</td>\n",
       "    </tr>\n",
       "    <tr>\n",
       "      <th>2</th>\n",
       "      <td>Honda City 2017-2020 EXi</td>\n",
       "      <td>2006</td>\n",
       "      <td>158000</td>\n",
       "      <td>140000</td>\n",
       "      <td>Petrol</td>\n",
       "      <td>Individual</td>\n",
       "      <td>Manual</td>\n",
       "      <td>Third Owner</td>\n",
       "      <td>17.7 kmpl</td>\n",
       "      <td>1497 CC</td>\n",
       "      <td>78 bhp</td>\n",
       "      <td>5.0</td>\n",
       "    </tr>\n",
       "    <tr>\n",
       "      <th>3</th>\n",
       "      <td>Hyundai i20 Sportz Diesel</td>\n",
       "      <td>2010</td>\n",
       "      <td>225000</td>\n",
       "      <td>127000</td>\n",
       "      <td>Diesel</td>\n",
       "      <td>Individual</td>\n",
       "      <td>Manual</td>\n",
       "      <td>First Owner</td>\n",
       "      <td>23.0 kmpl</td>\n",
       "      <td>1396 CC</td>\n",
       "      <td>90 bhp</td>\n",
       "      <td>5.0</td>\n",
       "    </tr>\n",
       "    <tr>\n",
       "      <th>4</th>\n",
       "      <td>Maruti Swift VXI BSIII</td>\n",
       "      <td>2007</td>\n",
       "      <td>130000</td>\n",
       "      <td>120000</td>\n",
       "      <td>Petrol</td>\n",
       "      <td>Individual</td>\n",
       "      <td>Manual</td>\n",
       "      <td>First Owner</td>\n",
       "      <td>16.1 kmpl</td>\n",
       "      <td>1298 CC</td>\n",
       "      <td>88.2 bhp</td>\n",
       "      <td>5.0</td>\n",
       "    </tr>\n",
       "    <tr>\n",
       "      <th>...</th>\n",
       "      <td>...</td>\n",
       "      <td>...</td>\n",
       "      <td>...</td>\n",
       "      <td>...</td>\n",
       "      <td>...</td>\n",
       "      <td>...</td>\n",
       "      <td>...</td>\n",
       "      <td>...</td>\n",
       "      <td>...</td>\n",
       "      <td>...</td>\n",
       "      <td>...</td>\n",
       "      <td>...</td>\n",
       "    </tr>\n",
       "    <tr>\n",
       "      <th>8121</th>\n",
       "      <td>Maruti Wagon R VXI BS IV with ABS</td>\n",
       "      <td>2013</td>\n",
       "      <td>260000</td>\n",
       "      <td>50000</td>\n",
       "      <td>Petrol</td>\n",
       "      <td>Individual</td>\n",
       "      <td>Manual</td>\n",
       "      <td>Second Owner</td>\n",
       "      <td>18.9 kmpl</td>\n",
       "      <td>998 CC</td>\n",
       "      <td>67.1 bhp</td>\n",
       "      <td>5.0</td>\n",
       "    </tr>\n",
       "    <tr>\n",
       "      <th>8122</th>\n",
       "      <td>Hyundai i20 Magna 1.4 CRDi</td>\n",
       "      <td>2014</td>\n",
       "      <td>475000</td>\n",
       "      <td>80000</td>\n",
       "      <td>Diesel</td>\n",
       "      <td>Individual</td>\n",
       "      <td>Manual</td>\n",
       "      <td>Second Owner</td>\n",
       "      <td>22.54 kmpl</td>\n",
       "      <td>1396 CC</td>\n",
       "      <td>88.73 bhp</td>\n",
       "      <td>5.0</td>\n",
       "    </tr>\n",
       "    <tr>\n",
       "      <th>8123</th>\n",
       "      <td>Hyundai i20 Magna</td>\n",
       "      <td>2013</td>\n",
       "      <td>320000</td>\n",
       "      <td>110000</td>\n",
       "      <td>Petrol</td>\n",
       "      <td>Individual</td>\n",
       "      <td>Manual</td>\n",
       "      <td>First Owner</td>\n",
       "      <td>18.5 kmpl</td>\n",
       "      <td>1197 CC</td>\n",
       "      <td>82.85 bhp</td>\n",
       "      <td>5.0</td>\n",
       "    </tr>\n",
       "    <tr>\n",
       "      <th>8124</th>\n",
       "      <td>Hyundai Verna CRDi SX</td>\n",
       "      <td>2007</td>\n",
       "      <td>135000</td>\n",
       "      <td>119000</td>\n",
       "      <td>Diesel</td>\n",
       "      <td>Individual</td>\n",
       "      <td>Manual</td>\n",
       "      <td>Fourth &amp; Above Owner</td>\n",
       "      <td>16.8 kmpl</td>\n",
       "      <td>1493 CC</td>\n",
       "      <td>110 bhp</td>\n",
       "      <td>5.0</td>\n",
       "    </tr>\n",
       "    <tr>\n",
       "      <th>8125</th>\n",
       "      <td>Maruti Swift Dzire ZDi</td>\n",
       "      <td>2009</td>\n",
       "      <td>382000</td>\n",
       "      <td>120000</td>\n",
       "      <td>Diesel</td>\n",
       "      <td>Individual</td>\n",
       "      <td>Manual</td>\n",
       "      <td>First Owner</td>\n",
       "      <td>19.3 kmpl</td>\n",
       "      <td>1248 CC</td>\n",
       "      <td>73.9 bhp</td>\n",
       "      <td>5.0</td>\n",
       "    </tr>\n",
       "  </tbody>\n",
       "</table>\n",
       "<p>6718 rows × 12 columns</p>\n",
       "</div>"
      ],
      "text/plain": [
       "                                   name  year  selling_price  km_driven  \\\n",
       "0                Maruti Swift Dzire VDI  2014         450000     145500   \n",
       "1          Skoda Rapid 1.5 TDI Ambition  2014         370000     120000   \n",
       "2              Honda City 2017-2020 EXi  2006         158000     140000   \n",
       "3             Hyundai i20 Sportz Diesel  2010         225000     127000   \n",
       "4                Maruti Swift VXI BSIII  2007         130000     120000   \n",
       "...                                 ...   ...            ...        ...   \n",
       "8121  Maruti Wagon R VXI BS IV with ABS  2013         260000      50000   \n",
       "8122         Hyundai i20 Magna 1.4 CRDi  2014         475000      80000   \n",
       "8123                  Hyundai i20 Magna  2013         320000     110000   \n",
       "8124              Hyundai Verna CRDi SX  2007         135000     119000   \n",
       "8125             Maruti Swift Dzire ZDi  2009         382000     120000   \n",
       "\n",
       "        fuel seller_type transmission                 owner     mileage  \\\n",
       "0     Diesel  Individual       Manual           First Owner   23.4 kmpl   \n",
       "1     Diesel  Individual       Manual          Second Owner  21.14 kmpl   \n",
       "2     Petrol  Individual       Manual           Third Owner   17.7 kmpl   \n",
       "3     Diesel  Individual       Manual           First Owner   23.0 kmpl   \n",
       "4     Petrol  Individual       Manual           First Owner   16.1 kmpl   \n",
       "...      ...         ...          ...                   ...         ...   \n",
       "8121  Petrol  Individual       Manual          Second Owner   18.9 kmpl   \n",
       "8122  Diesel  Individual       Manual          Second Owner  22.54 kmpl   \n",
       "8123  Petrol  Individual       Manual           First Owner   18.5 kmpl   \n",
       "8124  Diesel  Individual       Manual  Fourth & Above Owner   16.8 kmpl   \n",
       "8125  Diesel  Individual       Manual           First Owner   19.3 kmpl   \n",
       "\n",
       "       engine   max_power  seats  \n",
       "0     1248 CC      74 bhp    5.0  \n",
       "1     1498 CC  103.52 bhp    5.0  \n",
       "2     1497 CC      78 bhp    5.0  \n",
       "3     1396 CC      90 bhp    5.0  \n",
       "4     1298 CC    88.2 bhp    5.0  \n",
       "...       ...         ...    ...  \n",
       "8121   998 CC    67.1 bhp    5.0  \n",
       "8122  1396 CC   88.73 bhp    5.0  \n",
       "8123  1197 CC   82.85 bhp    5.0  \n",
       "8124  1493 CC     110 bhp    5.0  \n",
       "8125  1248 CC    73.9 bhp    5.0  \n",
       "\n",
       "[6718 rows x 12 columns]"
      ]
     },
     "execution_count": 17,
     "metadata": {},
     "output_type": "execute_result"
    }
   ],
   "source": [
    "cars_data"
   ]
  },
  {
   "cell_type": "code",
   "execution_count": 18,
   "id": "91b83195-36cc-483d-818a-4adb9a9e0f67",
   "metadata": {},
   "outputs": [
    {
     "name": "stdout",
     "output_type": "stream",
     "text": [
      "<class 'pandas.core.frame.DataFrame'>\n",
      "Index: 6718 entries, 0 to 8125\n",
      "Data columns (total 12 columns):\n",
      " #   Column         Non-Null Count  Dtype  \n",
      "---  ------         --------------  -----  \n",
      " 0   name           6718 non-null   object \n",
      " 1   year           6718 non-null   int64  \n",
      " 2   selling_price  6718 non-null   int64  \n",
      " 3   km_driven      6718 non-null   int64  \n",
      " 4   fuel           6718 non-null   object \n",
      " 5   seller_type    6718 non-null   object \n",
      " 6   transmission   6718 non-null   object \n",
      " 7   owner          6718 non-null   object \n",
      " 8   mileage        6718 non-null   object \n",
      " 9   engine         6718 non-null   object \n",
      " 10  max_power      6718 non-null   object \n",
      " 11  seats          6718 non-null   float64\n",
      "dtypes: float64(1), int64(3), object(8)\n",
      "memory usage: 682.3+ KB\n"
     ]
    }
   ],
   "source": [
    "cars_data.info()"
   ]
  },
  {
   "cell_type": "code",
   "execution_count": 19,
   "id": "bc234c2d-65c3-43cd-bbee-279e622f41c2",
   "metadata": {},
   "outputs": [],
   "source": [
    "#Data Analysis"
   ]
  },
  {
   "cell_type": "code",
   "execution_count": 20,
   "id": "4be8dd2c-5e83-47e1-a1ac-3646bdb6e15b",
   "metadata": {},
   "outputs": [
    {
     "name": "stdout",
     "output_type": "stream",
     "text": [
      "Unique values of name\n",
      "['Maruti Swift Dzire VDI' 'Skoda Rapid 1.5 TDI Ambition'\n",
      " 'Honda City 2017-2020 EXi' ... 'Tata Nexon 1.5 Revotorq XT'\n",
      " 'Ford Freestyle Titanium Plus Diesel BSIV'\n",
      " 'Toyota Innova 2.5 GX (Diesel) 8 Seater BS IV']\n",
      "======================\n",
      "Unique values of year\n",
      "[2014 2006 2010 2007 2017 2001 2011 2013 2005 2009 2016 2012 2002 2015\n",
      " 2018 2019 2008 2020 1999 2000 2003 2004 1994 1998 1997 1995 1996]\n",
      "======================\n",
      "Unique values of selling_price\n",
      "[  450000   370000   158000   225000   130000   440000    96000    45000\n",
      "   350000   200000   500000    92000   280000   180000   400000   778000\n",
      "   150000   680000   174000   950000   525000   600000   575000   275000\n",
      "   300000   220000   254999   670000   730000   650000   330000   366000\n",
      "  1149000   425000  2100000   925000   675000   819999   390000  1500000\n",
      "   700000  1450000  1090000   850000  1650000  1750000  1590000  1689999\n",
      "  1425000   265000   190000   630000   540000   448000   745000  1025000\n",
      "   235000  1700000  1200000   610000  2500000   484999   315000   290000\n",
      "   455000   351000   535000   175000   565000   120000   725000   185000\n",
      "   615000   270000   625000   866000   375000   522000   451999   475000\n",
      "   780000   595000  1140000   360000   105000   135000   690000  3975000\n",
      "  5150000  3200000  4100000  4500000  6000000  3790000  5800000  1864999\n",
      "  2700000   795000  3400000  2650000  5850000   975000   805000  2625000\n",
      "   811000   550000   645000  2550000   599000   875000   894999   340000\n",
      "  1525000  2150000  1900000  2900000 10000000   160000   515000    40000\n",
      "   480000   487000   386000   100000   490000   345000    85000   215000\n",
      "   320000   459999    65000   720000   800000   520000   580000   420000\n",
      "  1250000   830000   335000   329000   775000   524000   245000   910000\n",
      "   900000   250000  1100000   640000   409999   165000    80000  1000000\n",
      "   110000   170000  1380000  1300000   530000   310000  1150000   380000\n",
      "   404000   114999   465000   210000  4600000   509999    90000   409000\n",
      "   395000    81000   555000   229999  1210000   325000    60000    89000\n",
      "   434999  3000000   570000  1550000    64000   140000   503000  3800000\n",
      "  2000000   740000   750000  5400000  5500000   779000  2475000   240000\n",
      "  1085000    95000  1290000   219000   260000   840000   292000   385000\n",
      "  1050000   735000   560000   585000   760000   430000   643000   285000\n",
      "   660000   268000    88000   561000   755000   125000  1600000   801000\n",
      "   317000   495000   236000  1800000   415000   217000   466000   605000\n",
      "  1350000   337000   655000   196000   299000   634000  1225000   238000\n",
      "   590000   195000   715000   168000   531000  1625000   145000   441000\n",
      "    67500   321000   298000  1075000   681000   810000   573000   101000\n",
      "  1019999   244000  1165000   241000   327000   620000   204999   576000\n",
      "   695000   231000   261000   371000   421000   710000  1040000   199000\n",
      "   305000  1745000   611000    75000    55000  1325000   885000   108000\n",
      "   272000  1125000   388000   757000   626000   793000  3750000  1400000\n",
      "  1925000   844999  2940000  1825000   890000   770000   467000   711000\n",
      "   511000   166000   392000   833000    35000   880000  1030000   521000\n",
      "   451000   472000   649000   429000  1576000   825000   470000  1560000\n",
      "  1950000   786000   731000   191000   651000   445000    93150   403000\n",
      "   144000    52000   302000   869999   155000   246000   405000    70000\n",
      "  3250000  1143000   635000  1575000   318000   152000   248000  1465000\n",
      "  1080000   678000  1460000   756000   665000  2950000   377000  1675000\n",
      "   169000   685000   749000   899000   259000   416000   773000   889000\n",
      "   118000   256000  1888000    99000  2280000    31504   295000   444000\n",
      "   860000  2450000   198000  2825000  2125000  3350000   365000   919999\n",
      "  2600000   839000  1594000   161000   423000   551000    50000   411000\n",
      "  1530000   376000  1850000    86000   822000    30000   252000   131000\n",
      "   128000   790000   604000  1175000   141000   151000   577000    83000\n",
      "   946000   356000   955000   978999   348000   399000   362000   499000\n",
      "   358000   278000   426000   211000  1270000   426999   960000  1031000\n",
      "    72000   479000   764000  2199000  3600000   184000   119000   267000\n",
      "   328000   112999    39000  2850000  2800000  3900000   221000   631000\n",
      "   308000   940000   361000   355000  7200000   930000  1670000   980000\n",
      "   486000   242000   654000   835000   408000    94500  1110000   438999\n",
      "   911999   693000   449000  1390000   698000   539000   765000   562000\n",
      "   571000   589000   227999  1151000  1295000  4090000   347000   493000\n",
      "   545000  1475000   287000  1630000   501000   181000  2711000  1035000\n",
      "   316000   813000  1190000   378000   156000   194000   754000    55599\n",
      "  1511000    78000   250999   312000    66000   369000   149000   752000\n",
      "   142000   111000   206000   567000   699000   632000   905000  1145000\n",
      "    58000   179000  1515000   178000   222000   387000  1405000   282000\n",
      "   458000   157000   497000  1227000   574000   121000  3100000    68000\n",
      "  1920000   808000   512000   671000   799000  1365000  1490000    80500\n",
      "   189000   892000    93000  1680000   667000   204000    42000   694000\n",
      "   861999   476999  5200000  2375000  2750000  1385000   785000  1275000\n",
      "  1748999   132000    33351  2064000   469000   906000   797000  6223000\n",
      "  5923000  6523000   122000   891000   346000   532000   974000   483000\n",
      "   138000   432000  1757000   412000   126000   736000   579000   187000\n",
      "  4000000  1898999   482000   401000   737000   291000   999000   957000\n",
      "   834000   297000   669000   616000   129000   115999   861000  3251000\n",
      "   911000   148000   433000   488000    67000   516000   136000    29999\n",
      "   124000  1938000   172000    59000  3500000   537000   849000   851000\n",
      "   597000   741000   556000   549000   679000   969999  1237000    31000\n",
      "   666000    54000   374000   455999   453000   258000   428000   262000\n",
      "   389000   339000   277000   578000   684000   949000   227000  5830000\n",
      "   721000   751000  2400000   990000  1282000  1147000   558000   722000\n",
      "   563000  2300000  2200000   488999   276000   434000   372000  1520000\n",
      "   202999   541000   254000   528000   102000   311000   977000  1251000\n",
      "  1445000    98000    59259   153000  1051000   591000   319000   454000\n",
      "  1160000  3300000   791000   802999  1789999  1044999   279000   944999\n",
      "  1859000  2175000   430999   803999   934000   357000   965000   341000\n",
      "    75527  1132000   352000   252999   313000   391000  2051000   212000\n",
      "  2575000  1516000   359000   209000  1220000  1180000    45957  1265000\n",
      "   382000   526000    90177    46000   307000   746000]\n",
      "======================\n",
      "Unique values of km_driven\n",
      "[ 145500  120000  140000  127000   45000  175000    5000   90000  169000\n",
      "   68000  100000   40000   70000   53000   80000   50000   72000   35000\n",
      "   28000   25000    2388   16200   10000   15000   42000   60000   76000\n",
      "   28900   86300   23300   32600   10300   77000   99000   27800   49800\n",
      "  151000   54700   64000   63000  127700   33900   59000  110000  147000\n",
      "   30000  135000    9850   78000  170000   49000   32000   38000   44000\n",
      "   12000   55500   61500  150000   37800  114000   48000   69000   13000\n",
      "   76139   65000    1303   31800   20000   17000   21000   37000   29500\n",
      "    7500   19000   41000   39000   22000   47000   72200   49900    9000\n",
      "   11000   95000   18000   46100   16000    9654   24300   42163    8000\n",
      "   71000    9500   36600   14000  120600   86000    7800   31377   75000\n",
      "   93000  125000   13500  162500   92500  158000    2000  181000  193000\n",
      "  122358   95200   33033   63063  207890    7976   16500   99361   33000\n",
      "   80100  160000   26000   29000   58000   36000  185000  162000   67000\n",
      "   52000   68089   58343   38817   56494   79328    5621   25538   69779\n",
      "   56290    8500    7032  106000  240000  214000    1000  265000  134000\n",
      "    2136  250000  130000   99500  119000   44665  123000   34000  146000\n",
      "   85000  201850   46000  190000   43000   14200   19100   54000  101500\n",
      "   55735    1500  181491   53319   40906   31711   43755   66693   59549\n",
      "   94385   73730  221889  116104  150546  148120  142000  126000   24000\n",
      "  101000  168000  165000   98500   98000   77800   51492  136000   91000\n",
      "  167000  180000    6000   91500  132478   51000  105000  137500   88000\n",
      "  156060  107000   57000  300000  200000   18945  144000  107825    1620\n",
      "  141000  108000   55000   37944   90400   96000  193623   63186  219000\n",
      "   23000   94000  140500  143000  195000  360003    8079  114368   79990\n",
      "   81632  155201  101504   90165   86017   85036  125531  206000   49700\n",
      "   74000    6550   56000   41779   31000   13534    7000   28156   63309\n",
      "  155000   11500    3000  157000   27000   26300   89100  104000  210000\n",
      "  216000   84000  161000   72113  113000   96443   51500  104500   49102\n",
      "   81000  227000  117000    8576   19723   21446   52289   52236   54470\n",
      "   25471   33928   59736   54290    2118   61379   58544   74381   63982\n",
      "   56429   19500   56832   30528   65285   20102   52380   74250   57247\n",
      "  178000   42323   42462   54723   42545   20375   43978   40200   27233\n",
      "   28832  103000  142500  115000   35500   17500   92000    4500   83000\n",
      "    6750   18500   50478    9200    2300    4295    5229    4701    6757\n",
      "   28182   11533   11688   57728   23712   70670   43381   79011   58500\n",
      "   43500   12700   49455   46815  334000  100875  118000  128000  144030\n",
      "  176000   89000   97000   12800   65100   15200   82000  116500  145000\n",
      "   73000  113226  160500  132000  217000  139000    3500   62000 1500000\n",
      "  120005   16830   93468   16589   53201   25272   53619    6001  202000\n",
      "   71717   84321  177000  205000   41800   88700  188000  225000    5500\n",
      "    4875    2700   58511   26235   26766    1600   24522   13663   58945\n",
      "  375000  156975   27620  143200  138000  189000  156000   10800   67500\n",
      "  255000   71850  112000  159000   76131   51777   64788   46951   74537\n",
      "   23500   68600   13887   66000   24400   27500   67840  380000  112880\n",
      "   61915  184000    6200   16700    7967    9656   68609   33360   14317\n",
      "   87237   62960   26634  163720   67998   20706  100581   67303   79139\n",
      "   84784  130376   33500   22053   78432  270000    7200  117500   78500\n",
      "  115717    4000   26432   46702   46706   53523   56365   49563   56432\n",
      "   52365   53512   46533   58632   65300   39395  230000   32500   64800\n",
      "  248000   66444  218463  153000   87185  137000    3564   48756   80322\n",
      "  173000  148000    6500  220000  108957   22200  260000   42108   79000\n",
      "   17100   43001  100600   92385  116000   72500   82500   50600  121000\n",
      "  101903   85568    3100  186000   59300   89322   48300   23511   22512\n",
      "   62900   52442   34156   34152   62841   38600   27654   48698   32995\n",
      "   90150   85700   25339   41232   68240   92651   88754   23700   69500\n",
      "   28050   22947    7672   36659   44500    9900  124316    6544   49600\n",
      "  198000  103994   35008   31100   42312   54891   18890   75010    4337\n",
      "   14495   83585   48406   56239   33243   15858   87847   87000  112072\n",
      "   52269   15780 2360457  108800   12500  577414  121941  152186   82246\n",
      "   89580    2789   35278    2860   78562   36088  129000  500000  133000\n",
      "   64500   24500   45500   71500   93500   60300   44391   56315   15151\n",
      "  114321   37333  330000  291000   21500  197000   40300   30030   29029\n",
      "   72072   82082   80600   58609   33003  165500    5800   68700  102996\n",
      "   96500   52412   85472   87452   66530   32331  172000   23456  136500\n",
      "  111000   42500   47200  246000    5200   10500   93331  109000    5400\n",
      "  102000   29700    7600   29340   80800   24265   56900   88200   40800\n",
      "    8588  305000  212000  101200  179150   84487  264000   51146  298000\n",
      "  149000  291977   36800   52200  248200    7720   57882  242000   55380\n",
      "   18816   33019   47747   45900   68697  147279   24700   43526   55885\n",
      "   16034  156040   93415  122000   68519   22966    2350   59872   91182\n",
      "   59500   75500  152500   69123   77524   40523   23600  290000   24177\n",
      "  121779   15381   74800  109322  475000   61000   80500   65755    2600\n",
      "   15500   50700  440000  152000  200400    7300    9750  157138  285000\n",
      "  127991   13120   87500   62200   87540  231438  239451  154000  426000\n",
      "  182000  215000   77300   61260   17601    4773   57900    8600   78010\n",
      "   83844   23999   91400  178500   66953  166000  131000  100750   48676\n",
      "   79500  200185   49025   76460   47370   45217  222300   44600   28080\n",
      "   28800   21900   28100    7673   96272   22500    7400  370000  150360\n",
      "   42130  147500   56194   54188   54043   66657   35582   54327    7949\n",
      "   59734   49185   56389   58245   36422   42535   40736   56246   55403\n",
      "  105358   49200   81500    3177   39414   30078   44588   49907   67082\n",
      "  112879   10200    1300  175802  192000   73840  320000   24857   26442\n",
      "   50800   40142    9400   12584    4300   14548   44772   48500   28782\n",
      "   28451   36500   44885  131111   58400   23400    3010  163000   77088\n",
      "  136511   36710   28180   44077   55768  123278   26500   18484    2560\n",
      "  103655   56975  187000  218000   73257   26320   38426  116700  176062\n",
      "   77500   39500   55896   30400  164000  271000   75262   91863   47552\n",
      "   14700   19700  145241   95500   53473   75958   31596   85710  129627\n",
      "   55130   22522   51856   29434   34500    6825  112011   53534  248119\n",
      "   24019   19600  376412  183000  108916   59865   68140   53190   70100\n",
      "   47725   70195   77395   74321   80235   77150   61100   82300   82050\n",
      "   29899   59235  201000   77215   48228   58559   50856   18300   59292\n",
      "   21147   61173   91567   33400   92686   67600   49500  112048   30646\n",
      "   43011  104300   73500  280000   35700   22700   21871   55425   37659\n",
      "   37500   19800   45629   68850   45775   68203   97343   82507   59400\n",
      "  125876   56800   65204    2286   15732   49523   36521   64481   49060\n",
      "   37161   60175   49957   43235   50699       1   50074   30154   26263\n",
      "   84925   46357   46737  110048  186388   20171   37151   58161   50171\n",
      "   55161    9599   16151   28161   80868  194000  191000]\n",
      "======================\n",
      "Unique values of fuel\n",
      "['Diesel' 'Petrol' 'LPG' 'CNG']\n",
      "======================\n",
      "Unique values of seller_type\n",
      "['Individual' 'Dealer' 'Trustmark Dealer']\n",
      "======================\n",
      "Unique values of transmission\n",
      "['Manual' 'Automatic']\n",
      "======================\n",
      "Unique values of owner\n",
      "['First Owner' 'Second Owner' 'Third Owner' 'Fourth & Above Owner'\n",
      " 'Test Drive Car']\n",
      "======================\n",
      "Unique values of mileage\n",
      "['23.4 kmpl' '21.14 kmpl' '17.7 kmpl' '23.0 kmpl' '16.1 kmpl' '20.14 kmpl'\n",
      " '17.3 km/kg' '23.59 kmpl' '20.0 kmpl' '19.01 kmpl' '17.3 kmpl'\n",
      " '19.3 kmpl' '18.9 kmpl' '18.15 kmpl' '24.52 kmpl' '19.7 kmpl'\n",
      " '22.54 kmpl' '21.0 kmpl' '25.5 kmpl' '26.59 kmpl' '21.5 kmpl' '20.3 kmpl'\n",
      " '21.4 kmpl' '24.7 kmpl' '18.2 kmpl' '16.8 kmpl' '24.3 kmpl' '14.0 kmpl'\n",
      " '18.6 kmpl' '33.44 km/kg' '23.95 kmpl' '17.0 kmpl' '20.63 kmpl'\n",
      " '13.93 kmpl' '16.0 kmpl' '17.8 kmpl' '18.5 kmpl' '12.55 kmpl'\n",
      " '12.99 kmpl' '14.8 kmpl' '13.5 kmpl' '26.0 kmpl' '20.65 kmpl' '27.3 kmpl'\n",
      " '11.36 kmpl' '17.68 kmpl' '14.28 kmpl' '18.53 kmpl' '14.84 kmpl'\n",
      " '21.12 kmpl' '20.36 kmpl' '21.27 kmpl' '18.16 kmpl' '22.0 kmpl'\n",
      " '25.1 kmpl' '20.51 kmpl' '21.66 kmpl' '25.2 kmpl' '22.9 kmpl'\n",
      " '16.02 kmpl' '20.54 kmpl' '22.77 kmpl' '15.71 kmpl' '23.1 kmpl'\n",
      " '19.02 kmpl' '19.81 kmpl' '26.2 km/kg' '16.47 kmpl' '15.04 kmpl'\n",
      " '19.1 kmpl' '21.79 kmpl' '18.8 kmpl' '21.21 kmpl' '15.37 kmpl'\n",
      " '11.79 kmpl' '19.0 kmpl' '14.3 kmpl' '15.8 kmpl' '15.1 kmpl' '19.09 kmpl'\n",
      " '22.32 kmpl' '21.9 kmpl' '14.53 kmpl' '21.63 kmpl' '20.85 kmpl'\n",
      " '20.45 kmpl' '19.67 kmpl' '23.01 kmpl' '20.77 kmpl' '17.92 kmpl'\n",
      " '17.01 kmpl' '22.37 kmpl' '19.33 kmpl' '9.5 kmpl' '12.83 kmpl'\n",
      " '22.48 kmpl' '16.78 kmpl' '14.67 kmpl' '15.0 kmpl' '13.96 kmpl'\n",
      " '18.0 kmpl' '12.07 kmpl' '26.21 kmpl' '10.8 kmpl' '16.3 kmpl' '13.6 kmpl'\n",
      " '14.74 kmpl' '15.6 kmpl' '19.56 kmpl' '22.69 kmpl' '19.16 kmpl'\n",
      " '18.12 kmpl' '12.1 kmpl' '17.5 kmpl' '42.0 kmpl' '20.4 kmpl' '21.1 kmpl'\n",
      " '19.44 kmpl' '13.0 kmpl' '21.43 kmpl' '22.95 kmpl' '16.2 kmpl'\n",
      " '15.3 kmpl' '28.09 kmpl' '17.4 kmpl' '19.4 kmpl' '26.6 km/kg' '17.6 kmpl'\n",
      " '28.4 kmpl' '14.1 kmpl' '25.17 kmpl' '22.74 kmpl' '17.57 kmpl'\n",
      " '16.95 kmpl' '19.49 kmpl' '17.21 kmpl' '13.2 kmpl' '14.2 kmpl'\n",
      " '26.8 kmpl' '25.4 kmpl' '11.5 kmpl' '27.28 kmpl' '17.97 kmpl' '12.8 kmpl'\n",
      " '16.55 kmpl' '12.05 kmpl' '14.07 kmpl' '21.02 kmpl' '11.57 kmpl'\n",
      " '17.9 kmpl' '15.96 kmpl' '17.1 kmpl' '17.19 kmpl' '21.01 kmpl'\n",
      " '24.0 kmpl' '25.6 kmpl' '21.38 kmpl' '23.84 kmpl' '23.08 kmpl'\n",
      " '14.24 kmpl' '20.71 kmpl' '15.64 kmpl' '14.5 kmpl' '16.34 kmpl'\n",
      " '27.39 kmpl' '11.1 kmpl' '13.9 kmpl' '20.88 km/kg' '20.92 kmpl'\n",
      " '23.8 kmpl' '24.4 kmpl' '15.29 kmpl' '21.19 kmpl' '22.5 kmpl' '19.6 kmpl'\n",
      " '23.65 kmpl' '25.32 kmpl' '23.5 kmpl' '16.6 kmpl' '23.9 kmpl' '20.8 kmpl'\n",
      " '27.62 kmpl' '12.9 kmpl' '25.44 kmpl' '17.88 kmpl' '22.7 kmpl'\n",
      " '17.2 kmpl' '15.42 kmpl' '19.68 kmpl' '18.7 kmpl' '15.4 kmpl'\n",
      " '19.34 kmpl' '22.71 kmpl' '25.8 kmpl' '13.7 kmpl' '12.2 kmpl'\n",
      " '18.49 kmpl' '9.0 kmpl' '0.0 kmpl' '13.58 kmpl' '10.1 kmpl' '20.5 kmpl'\n",
      " '25.0 kmpl' '10.5 kmpl' '22.07 kmpl' '22.3 kmpl' '15.26 kmpl'\n",
      " '20.62 kmpl' '27.4 kmpl' '23.2 kmpl' '14.4 kmpl' '18.4 kmpl'\n",
      " '30.46 km/kg' '14.02 kmpl' '11.0 kmpl' '20.6 kmpl' '22.05 kmpl'\n",
      " '20.2 kmpl' '18.1 kmpl' '22.1 kmpl' '19.87 kmpl' '13.01 kmpl'\n",
      " '18.06 kmpl' '26.1 kmpl' '16.52 kmpl' '13.55 kmpl' '24.2 kmpl'\n",
      " '25.83 kmpl' '11.2 kmpl' '17.09 kmpl' '21.03 kmpl' '17.45 kmpl'\n",
      " '21.64 kmpl' '21.94 km/kg' '13.87 kmpl' '19.98 kmpl' '20.52 kmpl'\n",
      " '23.57 kmpl' '11.7 kmpl' '17.43 kmpl' '18.88 kmpl' '13.68 kmpl'\n",
      " '11.18 kmpl' '20.89 kmpl' '11.8 kmpl' '19.62 kmpl' '21.7 kmpl'\n",
      " '14.9 kmpl' '19.5 kmpl' '10.91 kmpl' '15.7 kmpl' '20.73 kmpl'\n",
      " '15.85 kmpl' '20.7 kmpl' '14.23 kmpl' '16.5 kmpl' '17.36 kmpl'\n",
      " '12.6 kmpl' '16.36 kmpl' '14.95 kmpl' '16.9 kmpl' '19.2 kmpl'\n",
      " '16.96 kmpl' '22.15 kmpl' '18.78 kmpl' '19.61 kmpl' '17.71 kmpl'\n",
      " '18.3 kmpl' '19.12 kmpl' '19.72 kmpl' '12.0 kmpl' '11.4 kmpl'\n",
      " '23.03 kmpl' '11.07 kmpl' '15.9 kmpl' '17.67 kmpl' '20.46 kmpl'\n",
      " '13.1 kmpl' '13.45 km/kg' '24.8 kmpl' '15.73 kmpl' '15.11 kmpl'\n",
      " '12.7 kmpl' '21.2 kmpl' '20.38 kmpl' '21.56 kmpl' '13.22 kmpl'\n",
      " '14.49 kmpl' '15.05 kmpl' '23.26 kmpl' '15.41 kmpl' '13.8 kmpl'\n",
      " '22.27 kmpl' '32.52 km/kg' '14.66 kmpl' '12.12 kmpl' '16.84 kmpl'\n",
      " '14.09 kmpl' '14.7 kmpl' '13.4 kmpl' '15.5 kmpl' '13.49 kmpl'\n",
      " '11.88 km/kg' '14.6 kmpl' '10.75 kmpl' '24.5 kmpl' '11.74 kmpl'\n",
      " '16.07 kmpl' '15.63 kmpl' '26.3 km/kg' '23.7 km/kg' '25.47 kmpl'\n",
      " '17.05 kmpl' '23.3 kmpl' '11.9 kmpl' '13.38 kmpl' '20.86 kmpl'\n",
      " '19.2 km/kg' '10.9 kmpl' '18.25 kmpl' '15.2 kmpl' '20.37 kmpl'\n",
      " '17.8 km/kg' '21.8 kmpl' '11.96 kmpl' '24.04 kmpl' '19.69 kmpl'\n",
      " '13.73 kmpl' '21.04 kmpl' '25.01 kmpl' '10.93 kmpl' '10.9 km/kg'\n",
      " '24.29 kmpl' '13.44 kmpl' '20.07 kmpl' '21.1 km/kg' '19.08 kmpl'\n",
      " '20.34 kmpl' '11.68 kmpl' '12.5 kmpl' '12.3 kmpl' '23.87 kmpl'\n",
      " '16.38 kmpl' '17.42 kmpl' '10.0 kmpl' '18.24 kmpl' '10.71 kmpl'\n",
      " '19.59 kmpl' '16.7 kmpl' '19.83 kmpl' '21.76 kmpl' '16.05 kmpl'\n",
      " '20.28 kmpl' '16.25 kmpl' '16.73 kmpl' '18.48 kmpl' '13.2 km/kg'\n",
      " '21.4 km/kg' '14.99 kmpl' '18.76 kmpl' '16.4 kmpl' '19.64 kmpl'\n",
      " '14.94 kmpl' '16.6 km/kg' '16.0 km/kg' '17.11 kmpl' '22.8 km/kg'\n",
      " '32.26 km/kg' '33.0 km/kg' '12.4 kmpl' '18.44 kmpl' '16.09 kmpl'\n",
      " '19.0 km/kg' '12.62 kmpl' '21.13 kmpl' '15.17 kmpl' '21.73 kmpl'\n",
      " '21.72 kmpl' '12.85 kmpl' '14.81 kmpl' '13.24 kmpl' '14.4 km/kg'\n",
      " '21.49 kmpl' '14.62 kmpl' '26.83 km/kg' '11.45 kmpl' '12.08 kmpl'\n",
      " '15.74 kmpl' '11.3 kmpl' '15.1 km/kg' '14.21 kmpl' '11.72 kmpl'\n",
      " '16.51 kmpl']\n",
      "======================\n",
      "Unique values of engine\n",
      "['1248 CC' '1498 CC' '1497 CC' '1396 CC' '1298 CC' '1197 CC' '1061 CC'\n",
      " '796 CC' '1364 CC' '1399 CC' '1461 CC' '993 CC' '1198 CC' '1199 CC'\n",
      " '998 CC' '1591 CC' '2179 CC' '1368 CC' '2982 CC' '2494 CC' '2143 CC'\n",
      " '2477 CC' '1462 CC' '2755 CC' '1968 CC' '1798 CC' '1196 CC' '1373 CC'\n",
      " '1598 CC' '1998 CC' '1086 CC' '1194 CC' '1172 CC' '1405 CC' '1582 CC'\n",
      " '999 CC' '2487 CC' '1999 CC' '3604 CC' '2987 CC' '1995 CC' '1451 CC'\n",
      " '1969 CC' '2967 CC' '2497 CC' '1797 CC' '1991 CC' '2362 CC' '1493 CC'\n",
      " '1599 CC' '1341 CC' '1794 CC' '799 CC' '1193 CC' '2696 CC' '1495 CC'\n",
      " '1186 CC' '1047 CC' '2498 CC' '2956 CC' '2523 CC' '1120 CC' '624 CC'\n",
      " '1496 CC' '1984 CC' '2354 CC' '814 CC' '793 CC' '1799 CC' '936 CC'\n",
      " '1956 CC' '1997 CC' '1499 CC' '1948 CC' '2997 CC' '2489 CC' '2499 CC'\n",
      " '2609 CC' '2953 CC' '1150 CC' '1994 CC' '1388 CC' '1527 CC' '2199 CC'\n",
      " '995 CC' '2993 CC' '1586 CC' '1390 CC' '909 CC' '2393 CC' '3198 CC'\n",
      " '1339 CC' '2835 CC' '2092 CC' '1595 CC' '2496 CC' '1596 CC' '1597 CC'\n",
      " '2596 CC' '2148 CC' '1299 CC' '1590 CC' '2231 CC' '2694 CC' '2200 CC'\n",
      " '1795 CC' '1896 CC' '1796 CC' '1422 CC' '1489 CC' '2359 CC' '2197 CC'\n",
      " '2999 CC' '1781 CC' '2650 CC' '1343 CC' '2446 CC' '3498 CC' '2198 CC'\n",
      " '2776 CC' '1950 CC']\n",
      "======================\n",
      "Unique values of max_power\n",
      "['74 bhp' '103.52 bhp' '78 bhp' '90 bhp' '88.2 bhp' '81.86 bhp' '57.5 bhp'\n",
      " '37 bhp' '67.1 bhp' '68.1 bhp' '108.45 bhp' '60 bhp' '73.9 bhp' '67 bhp'\n",
      " '82 bhp' '88.5 bhp' '46.3 bhp' '88.73 bhp' '64.1 bhp' '98.6 bhp'\n",
      " '88.8 bhp' '83.81 bhp' '83.1 bhp' '47.3 bhp' '73.8 bhp' '34.2 bhp'\n",
      " '35 bhp' '81.83 bhp' '40.3 bhp' '121.3 bhp' '138.03 bhp' '160.77 bhp'\n",
      " '117.3 bhp' '116.3 bhp' '83.14 bhp' '67.05 bhp' '168.5 bhp' '100 bhp'\n",
      " '120.7 bhp' '98.63 bhp' '175.56 bhp' '103.25 bhp' '171.5 bhp' '100.6 bhp'\n",
      " '174.33 bhp' '187.74 bhp' '170 bhp' '78.9 bhp' '88.76 bhp' '86.8 bhp'\n",
      " '108.495 bhp' '108.62 bhp' '93.7 bhp' '103.6 bhp' '98.59 bhp' '189 bhp'\n",
      " '67.04 bhp' '68.05 bhp' '58.2 bhp' '82.85 bhp' '81.80 bhp' '73 bhp'\n",
      " '120 bhp' '94.68 bhp' '160 bhp' '65 bhp' '155 bhp' '69.01 bhp'\n",
      " '126.32 bhp' '138.1 bhp' '83.8 bhp' '126.2 bhp' '98.96 bhp' '62.1 bhp'\n",
      " '86.7 bhp' '188 bhp' '214.56 bhp' '177 bhp' '280 bhp' '148.31 bhp'\n",
      " '254.79 bhp' '190 bhp' '177.46 bhp' '204 bhp' '141 bhp' '117.6 bhp'\n",
      " '241.4 bhp' '282 bhp' '150 bhp' '147.5 bhp' '108.5 bhp' '103.5 bhp'\n",
      " '183 bhp' '181.04 bhp' '157.7 bhp' '164.7 bhp' '91.1 bhp' '400 bhp'\n",
      " '68 bhp' '75 bhp' '85.8 bhp' '87.2 bhp' '53 bhp' '118 bhp' '103.2 bhp'\n",
      " '83 bhp' '84 bhp' '58.16 bhp' '147.94 bhp' '74.02 bhp' '53.3 bhp'\n",
      " '80 bhp' '88.7 bhp' '97.7 bhp' '121.36 bhp' '162 bhp' '140 bhp' '94 bhp'\n",
      " '100.57 bhp' '82.9 bhp' '83.11 bhp' '70 bhp' '153.86 bhp' '121 bhp'\n",
      " '126.3 bhp' '73.97 bhp' '171 bhp' '69 bhp' '99.6 bhp' '102 bhp' '105 bhp'\n",
      " '63 bhp' '79.4 bhp' '97.9 bhp' '63.1 bhp' '66.1 bhp' '110 bhp'\n",
      " '174.5 bhp' '53.26 bhp' '73.75 bhp' '67.06 bhp' '64.08 bhp' '37.5 bhp'\n",
      " '189.3 bhp' '158.8 bhp' '61.7 bhp' '55.2 bhp' '71.01 bhp' '73.74 bhp'\n",
      " '147.9 bhp' '71 bhp' '77 bhp' '121.4 bhp' '113.4 bhp' '47 bhp' '130 bhp'\n",
      " '57.6 bhp' '138 bhp' '52.8 bhp' '53.64 bhp' '53.5 bhp' '76.8 bhp'\n",
      " '82.4 bhp' '113.42 bhp' '76 bhp' '84.8 bhp' '56.3 bhp' '218 bhp'\n",
      " '112 bhp' '92 bhp' '105.5 bhp' '169 bhp' '95 bhp' '72.4 bhp' '115 bhp'\n",
      " '152 bhp' '91.2 bhp' '156 bhp' '74.9 bhp' '62 bhp' '105.3 bhp'\n",
      " '73.94 bhp' '85.80 bhp' '85 bhp' '118.3 bhp' '72 bhp' '147.51 bhp'\n",
      " '58 bhp' '64 bhp' '126.24 bhp' '76.9 bhp' '194.3 bhp' '99.23 bhp'\n",
      " '89.84 bhp' '123.7 bhp' '118.35 bhp' '99 bhp' '241 bhp' '136 bhp'\n",
      " '261.4 bhp' '104.68 bhp' '37.48 bhp' '104 bhp' '88.50 bhp' '63.12 bhp'\n",
      " '91.7 bhp' '102.5 bhp' '177.6 bhp' '45 bhp' '123.37 bhp' '147.8 bhp'\n",
      " '184 bhp' '84.48 bhp' '68.07 bhp' '74.96 bhp' '167.6 bhp' '152.87 bhp'\n",
      " '112.2 bhp' '83.83 bhp' '197 bhp' '110.4 bhp' '104.55 bhp' '103 bhp'\n",
      " '103.3 bhp' '66 bhp' '108.6 bhp' '165 bhp' '163.7 bhp' '116.9 bhp'\n",
      " '94.93 bhp' '127 bhp' '198.5 bhp' '179.5 bhp' '120.69 bhp' '121.31 bhp'\n",
      " '138.08 bhp' '187.7 bhp' '80.8 bhp' '86.79 bhp' '93.87 bhp' '116.6 bhp'\n",
      " '143 bhp' '92.7 bhp' '88 bhp' '58.33 bhp' '78.8 bhp' '64.4 bhp' '125 bhp'\n",
      " '139.01 bhp' '254.8 bhp' '181 bhp' '258 bhp' '55.23 bhp' '270.9 bhp'\n",
      " '265 bhp' '157.75 bhp' '101 bhp' '186 bhp' '187.4 bhp' '224 bhp'\n",
      " '64.9 bhp' '148 bhp' '35.5 bhp' '89.75 bhp' '32.8 bhp' '91.72 bhp'\n",
      " '106 bhp' '98.97 bhp' '66.6 bhp' '86 bhp' '65.3 bhp' '98.82 bhp'\n",
      " '198.25 bhp' '38 bhp' '142 bhp' '132 bhp' '174.57 bhp' '178 bhp'\n",
      " '163.2 bhp' '203.2 bhp' '177.5 bhp' '175 bhp' '57 bhp' '80.84 bhp'\n",
      " '68.4 bhp' '167.67 bhp' '170.63 bhp' '52 bhp' '149.5 bhp' '48.21 bhp'\n",
      " ' bhp' '201.1 bhp' '100.5 bhp' '144 bhp' '194.4 bhp' '168.7 bhp'\n",
      " '104.5 bhp' '103.26 bhp' '116.4 bhp' '98.79 bhp' '80.9 bhp' '58.3 bhp'\n",
      " '272 bhp' '235 bhp' '167.62 bhp' '170.30 bhp' '139.46 bhp' '158 bhp'\n",
      " '110.5 bhp' '82.5 bhp' '141.1 bhp' '38.4 bhp' '197.2 bhp' '161 bhp'\n",
      " '194 bhp' '122.4 bhp' '134.10 bhp' '60.2 bhp' '134 bhp' '203 bhp'\n",
      " '135.1 bhp']\n",
      "======================\n",
      "Unique values of seats\n",
      "[ 5.  4.  7.  8.  6.  9. 10. 14.  2.]\n",
      "======================\n"
     ]
    }
   ],
   "source": [
    "for col in cars_data.columns:\n",
    "    print('Unique values of ' + col)\n",
    "    print(cars_data[col].unique())\n",
    "    print(\"======================\")"
   ]
  },
  {
   "cell_type": "code",
   "execution_count": 21,
   "id": "4ef65d39-9c94-461c-8c71-04f022388561",
   "metadata": {},
   "outputs": [],
   "source": [
    "def get_brand_name(car_name):\n",
    "    car_name = car_name.split(' ')[0]\n",
    "    return car_name.strip()"
   ]
  },
  {
   "cell_type": "code",
   "execution_count": 22,
   "id": "d3ace190-5f31-45e6-9cad-13767e00bc21",
   "metadata": {},
   "outputs": [],
   "source": [
    "def clean_data(value):\n",
    "    value = value.split(' ')[0]\n",
    "    value = value.strip()\n",
    "    if value == '':\n",
    "        value = 0\n",
    "    return float(value)"
   ]
  },
  {
   "cell_type": "code",
   "execution_count": 23,
   "id": "ed991972-68c0-43a9-9688-ba85bf662839",
   "metadata": {},
   "outputs": [
    {
     "data": {
      "text/plain": [
       "'Maruti'"
      ]
     },
     "execution_count": 23,
     "metadata": {},
     "output_type": "execute_result"
    }
   ],
   "source": [
    "get_brand_name('Maruti  Swift Dzire VDI')"
   ]
  },
  {
   "cell_type": "code",
   "execution_count": 24,
   "id": "0644093c-faad-4407-974e-02cfe9353b9c",
   "metadata": {},
   "outputs": [],
   "source": [
    "cars_data['name'] = cars_data['name'].apply(get_brand_name)"
   ]
  },
  {
   "cell_type": "code",
   "execution_count": 25,
   "id": "621b42d0-eb5b-45b3-a88a-614f5f213e98",
   "metadata": {},
   "outputs": [
    {
     "data": {
      "text/plain": [
       "array(['Maruti', 'Skoda', 'Honda', 'Hyundai', 'Toyota', 'Ford', 'Renault',\n",
       "       'Mahindra', 'Tata', 'Chevrolet', 'Datsun', 'Jeep', 'Mercedes-Benz',\n",
       "       'Mitsubishi', 'Audi', 'Volkswagen', 'BMW', 'Nissan', 'Lexus',\n",
       "       'Jaguar', 'Land', 'MG', 'Volvo', 'Daewoo', 'Kia', 'Fiat', 'Force',\n",
       "       'Ambassador', 'Ashok', 'Isuzu', 'Opel'], dtype=object)"
      ]
     },
     "execution_count": 25,
     "metadata": {},
     "output_type": "execute_result"
    }
   ],
   "source": [
    "cars_data['name'].unique()"
   ]
  },
  {
   "cell_type": "code",
   "execution_count": 26,
   "id": "0f1518ab-8323-4e7c-84c0-3be087129432",
   "metadata": {},
   "outputs": [],
   "source": [
    "cars_data['mileage'] = cars_data['mileage'].apply(clean_data)"
   ]
  },
  {
   "cell_type": "code",
   "execution_count": 27,
   "id": "6190090c-b3ee-4ef5-a3d1-d385ed64193f",
   "metadata": {},
   "outputs": [],
   "source": [
    "cars_data['max_power'] = cars_data['max_power'].apply(clean_data)"
   ]
  },
  {
   "cell_type": "code",
   "execution_count": 28,
   "id": "14587e19-997b-482e-8617-b26c366dadb0",
   "metadata": {},
   "outputs": [],
   "source": [
    "cars_data['engine'] = cars_data['engine'].apply(clean_data)"
   ]
  },
  {
   "cell_type": "code",
   "execution_count": 29,
   "id": "4844037f-18f6-49ab-bffe-5f5306f53ba0",
   "metadata": {},
   "outputs": [
    {
     "name": "stdout",
     "output_type": "stream",
     "text": [
      "Unique values of name\n",
      "['Maruti' 'Skoda' 'Honda' 'Hyundai' 'Toyota' 'Ford' 'Renault' 'Mahindra'\n",
      " 'Tata' 'Chevrolet' 'Datsun' 'Jeep' 'Mercedes-Benz' 'Mitsubishi' 'Audi'\n",
      " 'Volkswagen' 'BMW' 'Nissan' 'Lexus' 'Jaguar' 'Land' 'MG' 'Volvo' 'Daewoo'\n",
      " 'Kia' 'Fiat' 'Force' 'Ambassador' 'Ashok' 'Isuzu' 'Opel']\n",
      "======================\n",
      "Unique values of year\n",
      "[2014 2006 2010 2007 2017 2001 2011 2013 2005 2009 2016 2012 2002 2015\n",
      " 2018 2019 2008 2020 1999 2000 2003 2004 1994 1998 1997 1995 1996]\n",
      "======================\n",
      "Unique values of selling_price\n",
      "[  450000   370000   158000   225000   130000   440000    96000    45000\n",
      "   350000   200000   500000    92000   280000   180000   400000   778000\n",
      "   150000   680000   174000   950000   525000   600000   575000   275000\n",
      "   300000   220000   254999   670000   730000   650000   330000   366000\n",
      "  1149000   425000  2100000   925000   675000   819999   390000  1500000\n",
      "   700000  1450000  1090000   850000  1650000  1750000  1590000  1689999\n",
      "  1425000   265000   190000   630000   540000   448000   745000  1025000\n",
      "   235000  1700000  1200000   610000  2500000   484999   315000   290000\n",
      "   455000   351000   535000   175000   565000   120000   725000   185000\n",
      "   615000   270000   625000   866000   375000   522000   451999   475000\n",
      "   780000   595000  1140000   360000   105000   135000   690000  3975000\n",
      "  5150000  3200000  4100000  4500000  6000000  3790000  5800000  1864999\n",
      "  2700000   795000  3400000  2650000  5850000   975000   805000  2625000\n",
      "   811000   550000   645000  2550000   599000   875000   894999   340000\n",
      "  1525000  2150000  1900000  2900000 10000000   160000   515000    40000\n",
      "   480000   487000   386000   100000   490000   345000    85000   215000\n",
      "   320000   459999    65000   720000   800000   520000   580000   420000\n",
      "  1250000   830000   335000   329000   775000   524000   245000   910000\n",
      "   900000   250000  1100000   640000   409999   165000    80000  1000000\n",
      "   110000   170000  1380000  1300000   530000   310000  1150000   380000\n",
      "   404000   114999   465000   210000  4600000   509999    90000   409000\n",
      "   395000    81000   555000   229999  1210000   325000    60000    89000\n",
      "   434999  3000000   570000  1550000    64000   140000   503000  3800000\n",
      "  2000000   740000   750000  5400000  5500000   779000  2475000   240000\n",
      "  1085000    95000  1290000   219000   260000   840000   292000   385000\n",
      "  1050000   735000   560000   585000   760000   430000   643000   285000\n",
      "   660000   268000    88000   561000   755000   125000  1600000   801000\n",
      "   317000   495000   236000  1800000   415000   217000   466000   605000\n",
      "  1350000   337000   655000   196000   299000   634000  1225000   238000\n",
      "   590000   195000   715000   168000   531000  1625000   145000   441000\n",
      "    67500   321000   298000  1075000   681000   810000   573000   101000\n",
      "  1019999   244000  1165000   241000   327000   620000   204999   576000\n",
      "   695000   231000   261000   371000   421000   710000  1040000   199000\n",
      "   305000  1745000   611000    75000    55000  1325000   885000   108000\n",
      "   272000  1125000   388000   757000   626000   793000  3750000  1400000\n",
      "  1925000   844999  2940000  1825000   890000   770000   467000   711000\n",
      "   511000   166000   392000   833000    35000   880000  1030000   521000\n",
      "   451000   472000   649000   429000  1576000   825000   470000  1560000\n",
      "  1950000   786000   731000   191000   651000   445000    93150   403000\n",
      "   144000    52000   302000   869999   155000   246000   405000    70000\n",
      "  3250000  1143000   635000  1575000   318000   152000   248000  1465000\n",
      "  1080000   678000  1460000   756000   665000  2950000   377000  1675000\n",
      "   169000   685000   749000   899000   259000   416000   773000   889000\n",
      "   118000   256000  1888000    99000  2280000    31504   295000   444000\n",
      "   860000  2450000   198000  2825000  2125000  3350000   365000   919999\n",
      "  2600000   839000  1594000   161000   423000   551000    50000   411000\n",
      "  1530000   376000  1850000    86000   822000    30000   252000   131000\n",
      "   128000   790000   604000  1175000   141000   151000   577000    83000\n",
      "   946000   356000   955000   978999   348000   399000   362000   499000\n",
      "   358000   278000   426000   211000  1270000   426999   960000  1031000\n",
      "    72000   479000   764000  2199000  3600000   184000   119000   267000\n",
      "   328000   112999    39000  2850000  2800000  3900000   221000   631000\n",
      "   308000   940000   361000   355000  7200000   930000  1670000   980000\n",
      "   486000   242000   654000   835000   408000    94500  1110000   438999\n",
      "   911999   693000   449000  1390000   698000   539000   765000   562000\n",
      "   571000   589000   227999  1151000  1295000  4090000   347000   493000\n",
      "   545000  1475000   287000  1630000   501000   181000  2711000  1035000\n",
      "   316000   813000  1190000   378000   156000   194000   754000    55599\n",
      "  1511000    78000   250999   312000    66000   369000   149000   752000\n",
      "   142000   111000   206000   567000   699000   632000   905000  1145000\n",
      "    58000   179000  1515000   178000   222000   387000  1405000   282000\n",
      "   458000   157000   497000  1227000   574000   121000  3100000    68000\n",
      "  1920000   808000   512000   671000   799000  1365000  1490000    80500\n",
      "   189000   892000    93000  1680000   667000   204000    42000   694000\n",
      "   861999   476999  5200000  2375000  2750000  1385000   785000  1275000\n",
      "  1748999   132000    33351  2064000   469000   906000   797000  6223000\n",
      "  5923000  6523000   122000   891000   346000   532000   974000   483000\n",
      "   138000   432000  1757000   412000   126000   736000   579000   187000\n",
      "  4000000  1898999   482000   401000   737000   291000   999000   957000\n",
      "   834000   297000   669000   616000   129000   115999   861000  3251000\n",
      "   911000   148000   433000   488000    67000   516000   136000    29999\n",
      "   124000  1938000   172000    59000  3500000   537000   849000   851000\n",
      "   597000   741000   556000   549000   679000   969999  1237000    31000\n",
      "   666000    54000   374000   455999   453000   258000   428000   262000\n",
      "   389000   339000   277000   578000   684000   949000   227000  5830000\n",
      "   721000   751000  2400000   990000  1282000  1147000   558000   722000\n",
      "   563000  2300000  2200000   488999   276000   434000   372000  1520000\n",
      "   202999   541000   254000   528000   102000   311000   977000  1251000\n",
      "  1445000    98000    59259   153000  1051000   591000   319000   454000\n",
      "  1160000  3300000   791000   802999  1789999  1044999   279000   944999\n",
      "  1859000  2175000   430999   803999   934000   357000   965000   341000\n",
      "    75527  1132000   352000   252999   313000   391000  2051000   212000\n",
      "  2575000  1516000   359000   209000  1220000  1180000    45957  1265000\n",
      "   382000   526000    90177    46000   307000   746000]\n",
      "======================\n",
      "Unique values of km_driven\n",
      "[ 145500  120000  140000  127000   45000  175000    5000   90000  169000\n",
      "   68000  100000   40000   70000   53000   80000   50000   72000   35000\n",
      "   28000   25000    2388   16200   10000   15000   42000   60000   76000\n",
      "   28900   86300   23300   32600   10300   77000   99000   27800   49800\n",
      "  151000   54700   64000   63000  127700   33900   59000  110000  147000\n",
      "   30000  135000    9850   78000  170000   49000   32000   38000   44000\n",
      "   12000   55500   61500  150000   37800  114000   48000   69000   13000\n",
      "   76139   65000    1303   31800   20000   17000   21000   37000   29500\n",
      "    7500   19000   41000   39000   22000   47000   72200   49900    9000\n",
      "   11000   95000   18000   46100   16000    9654   24300   42163    8000\n",
      "   71000    9500   36600   14000  120600   86000    7800   31377   75000\n",
      "   93000  125000   13500  162500   92500  158000    2000  181000  193000\n",
      "  122358   95200   33033   63063  207890    7976   16500   99361   33000\n",
      "   80100  160000   26000   29000   58000   36000  185000  162000   67000\n",
      "   52000   68089   58343   38817   56494   79328    5621   25538   69779\n",
      "   56290    8500    7032  106000  240000  214000    1000  265000  134000\n",
      "    2136  250000  130000   99500  119000   44665  123000   34000  146000\n",
      "   85000  201850   46000  190000   43000   14200   19100   54000  101500\n",
      "   55735    1500  181491   53319   40906   31711   43755   66693   59549\n",
      "   94385   73730  221889  116104  150546  148120  142000  126000   24000\n",
      "  101000  168000  165000   98500   98000   77800   51492  136000   91000\n",
      "  167000  180000    6000   91500  132478   51000  105000  137500   88000\n",
      "  156060  107000   57000  300000  200000   18945  144000  107825    1620\n",
      "  141000  108000   55000   37944   90400   96000  193623   63186  219000\n",
      "   23000   94000  140500  143000  195000  360003    8079  114368   79990\n",
      "   81632  155201  101504   90165   86017   85036  125531  206000   49700\n",
      "   74000    6550   56000   41779   31000   13534    7000   28156   63309\n",
      "  155000   11500    3000  157000   27000   26300   89100  104000  210000\n",
      "  216000   84000  161000   72113  113000   96443   51500  104500   49102\n",
      "   81000  227000  117000    8576   19723   21446   52289   52236   54470\n",
      "   25471   33928   59736   54290    2118   61379   58544   74381   63982\n",
      "   56429   19500   56832   30528   65285   20102   52380   74250   57247\n",
      "  178000   42323   42462   54723   42545   20375   43978   40200   27233\n",
      "   28832  103000  142500  115000   35500   17500   92000    4500   83000\n",
      "    6750   18500   50478    9200    2300    4295    5229    4701    6757\n",
      "   28182   11533   11688   57728   23712   70670   43381   79011   58500\n",
      "   43500   12700   49455   46815  334000  100875  118000  128000  144030\n",
      "  176000   89000   97000   12800   65100   15200   82000  116500  145000\n",
      "   73000  113226  160500  132000  217000  139000    3500   62000 1500000\n",
      "  120005   16830   93468   16589   53201   25272   53619    6001  202000\n",
      "   71717   84321  177000  205000   41800   88700  188000  225000    5500\n",
      "    4875    2700   58511   26235   26766    1600   24522   13663   58945\n",
      "  375000  156975   27620  143200  138000  189000  156000   10800   67500\n",
      "  255000   71850  112000  159000   76131   51777   64788   46951   74537\n",
      "   23500   68600   13887   66000   24400   27500   67840  380000  112880\n",
      "   61915  184000    6200   16700    7967    9656   68609   33360   14317\n",
      "   87237   62960   26634  163720   67998   20706  100581   67303   79139\n",
      "   84784  130376   33500   22053   78432  270000    7200  117500   78500\n",
      "  115717    4000   26432   46702   46706   53523   56365   49563   56432\n",
      "   52365   53512   46533   58632   65300   39395  230000   32500   64800\n",
      "  248000   66444  218463  153000   87185  137000    3564   48756   80322\n",
      "  173000  148000    6500  220000  108957   22200  260000   42108   79000\n",
      "   17100   43001  100600   92385  116000   72500   82500   50600  121000\n",
      "  101903   85568    3100  186000   59300   89322   48300   23511   22512\n",
      "   62900   52442   34156   34152   62841   38600   27654   48698   32995\n",
      "   90150   85700   25339   41232   68240   92651   88754   23700   69500\n",
      "   28050   22947    7672   36659   44500    9900  124316    6544   49600\n",
      "  198000  103994   35008   31100   42312   54891   18890   75010    4337\n",
      "   14495   83585   48406   56239   33243   15858   87847   87000  112072\n",
      "   52269   15780 2360457  108800   12500  577414  121941  152186   82246\n",
      "   89580    2789   35278    2860   78562   36088  129000  500000  133000\n",
      "   64500   24500   45500   71500   93500   60300   44391   56315   15151\n",
      "  114321   37333  330000  291000   21500  197000   40300   30030   29029\n",
      "   72072   82082   80600   58609   33003  165500    5800   68700  102996\n",
      "   96500   52412   85472   87452   66530   32331  172000   23456  136500\n",
      "  111000   42500   47200  246000    5200   10500   93331  109000    5400\n",
      "  102000   29700    7600   29340   80800   24265   56900   88200   40800\n",
      "    8588  305000  212000  101200  179150   84487  264000   51146  298000\n",
      "  149000  291977   36800   52200  248200    7720   57882  242000   55380\n",
      "   18816   33019   47747   45900   68697  147279   24700   43526   55885\n",
      "   16034  156040   93415  122000   68519   22966    2350   59872   91182\n",
      "   59500   75500  152500   69123   77524   40523   23600  290000   24177\n",
      "  121779   15381   74800  109322  475000   61000   80500   65755    2600\n",
      "   15500   50700  440000  152000  200400    7300    9750  157138  285000\n",
      "  127991   13120   87500   62200   87540  231438  239451  154000  426000\n",
      "  182000  215000   77300   61260   17601    4773   57900    8600   78010\n",
      "   83844   23999   91400  178500   66953  166000  131000  100750   48676\n",
      "   79500  200185   49025   76460   47370   45217  222300   44600   28080\n",
      "   28800   21900   28100    7673   96272   22500    7400  370000  150360\n",
      "   42130  147500   56194   54188   54043   66657   35582   54327    7949\n",
      "   59734   49185   56389   58245   36422   42535   40736   56246   55403\n",
      "  105358   49200   81500    3177   39414   30078   44588   49907   67082\n",
      "  112879   10200    1300  175802  192000   73840  320000   24857   26442\n",
      "   50800   40142    9400   12584    4300   14548   44772   48500   28782\n",
      "   28451   36500   44885  131111   58400   23400    3010  163000   77088\n",
      "  136511   36710   28180   44077   55768  123278   26500   18484    2560\n",
      "  103655   56975  187000  218000   73257   26320   38426  116700  176062\n",
      "   77500   39500   55896   30400  164000  271000   75262   91863   47552\n",
      "   14700   19700  145241   95500   53473   75958   31596   85710  129627\n",
      "   55130   22522   51856   29434   34500    6825  112011   53534  248119\n",
      "   24019   19600  376412  183000  108916   59865   68140   53190   70100\n",
      "   47725   70195   77395   74321   80235   77150   61100   82300   82050\n",
      "   29899   59235  201000   77215   48228   58559   50856   18300   59292\n",
      "   21147   61173   91567   33400   92686   67600   49500  112048   30646\n",
      "   43011  104300   73500  280000   35700   22700   21871   55425   37659\n",
      "   37500   19800   45629   68850   45775   68203   97343   82507   59400\n",
      "  125876   56800   65204    2286   15732   49523   36521   64481   49060\n",
      "   37161   60175   49957   43235   50699       1   50074   30154   26263\n",
      "   84925   46357   46737  110048  186388   20171   37151   58161   50171\n",
      "   55161    9599   16151   28161   80868  194000  191000]\n",
      "======================\n",
      "Unique values of fuel\n",
      "['Diesel' 'Petrol' 'LPG' 'CNG']\n",
      "======================\n",
      "Unique values of seller_type\n",
      "['Individual' 'Dealer' 'Trustmark Dealer']\n",
      "======================\n",
      "Unique values of transmission\n",
      "['Manual' 'Automatic']\n",
      "======================\n",
      "Unique values of owner\n",
      "['First Owner' 'Second Owner' 'Third Owner' 'Fourth & Above Owner'\n",
      " 'Test Drive Car']\n",
      "======================\n",
      "Unique values of mileage\n",
      "[23.4  21.14 17.7  23.   16.1  20.14 17.3  23.59 20.   19.01 19.3  18.9\n",
      " 18.15 24.52 19.7  22.54 21.   25.5  26.59 21.5  20.3  21.4  24.7  18.2\n",
      " 16.8  24.3  14.   18.6  33.44 23.95 17.   20.63 13.93 16.   17.8  18.5\n",
      " 12.55 12.99 14.8  13.5  26.   20.65 27.3  11.36 17.68 14.28 18.53 14.84\n",
      " 21.12 20.36 21.27 18.16 22.   25.1  20.51 21.66 25.2  22.9  16.02 20.54\n",
      " 22.77 15.71 23.1  19.02 19.81 26.2  16.47 15.04 19.1  21.79 18.8  21.21\n",
      " 15.37 11.79 19.   14.3  15.8  15.1  19.09 22.32 21.9  14.53 21.63 20.85\n",
      " 20.45 19.67 23.01 20.77 17.92 17.01 22.37 19.33  9.5  12.83 22.48 16.78\n",
      " 14.67 15.   13.96 18.   12.07 26.21 10.8  16.3  13.6  14.74 15.6  19.56\n",
      " 22.69 19.16 18.12 12.1  17.5  42.   20.4  21.1  19.44 13.   21.43 22.95\n",
      " 16.2  15.3  28.09 17.4  19.4  26.6  17.6  28.4  14.1  25.17 22.74 17.57\n",
      " 16.95 19.49 17.21 13.2  14.2  26.8  25.4  11.5  27.28 17.97 12.8  16.55\n",
      " 12.05 14.07 21.02 11.57 17.9  15.96 17.1  17.19 21.01 24.   25.6  21.38\n",
      " 23.84 23.08 14.24 20.71 15.64 14.5  16.34 27.39 11.1  13.9  20.88 20.92\n",
      " 23.8  24.4  15.29 21.19 22.5  19.6  23.65 25.32 23.5  16.6  23.9  20.8\n",
      " 27.62 12.9  25.44 17.88 22.7  17.2  15.42 19.68 18.7  15.4  19.34 22.71\n",
      " 25.8  13.7  12.2  18.49  9.    0.   13.58 10.1  20.5  25.   10.5  22.07\n",
      " 22.3  15.26 20.62 27.4  23.2  14.4  18.4  30.46 14.02 11.   20.6  22.05\n",
      " 20.2  18.1  22.1  19.87 13.01 18.06 26.1  16.52 13.55 24.2  25.83 11.2\n",
      " 17.09 21.03 17.45 21.64 21.94 13.87 19.98 20.52 23.57 11.7  17.43 18.88\n",
      " 13.68 11.18 20.89 11.8  19.62 21.7  14.9  19.5  10.91 15.7  20.73 15.85\n",
      " 20.7  14.23 16.5  17.36 12.6  16.36 14.95 16.9  19.2  16.96 22.15 18.78\n",
      " 19.61 17.71 18.3  19.12 19.72 12.   11.4  23.03 11.07 15.9  17.67 20.46\n",
      " 13.1  13.45 24.8  15.73 15.11 12.7  21.2  20.38 21.56 13.22 14.49 15.05\n",
      " 23.26 15.41 13.8  22.27 32.52 14.66 12.12 16.84 14.09 14.7  13.4  15.5\n",
      " 13.49 11.88 14.6  10.75 24.5  11.74 16.07 15.63 26.3  23.7  25.47 17.05\n",
      " 23.3  11.9  13.38 20.86 10.9  18.25 15.2  20.37 21.8  11.96 24.04 19.69\n",
      " 13.73 21.04 25.01 10.93 24.29 13.44 20.07 19.08 20.34 11.68 12.5  12.3\n",
      " 23.87 16.38 17.42 10.   18.24 10.71 19.59 16.7  19.83 21.76 16.05 20.28\n",
      " 16.25 16.73 18.48 14.99 18.76 16.4  19.64 14.94 17.11 22.8  32.26 33.\n",
      " 12.4  18.44 16.09 12.62 21.13 15.17 21.73 21.72 12.85 14.81 13.24 21.49\n",
      " 14.62 26.83 11.45 12.08 15.74 11.3  14.21 11.72 16.51]\n",
      "======================\n",
      "Unique values of engine\n",
      "[1248. 1498. 1497. 1396. 1298. 1197. 1061.  796. 1364. 1399. 1461.  993.\n",
      " 1198. 1199.  998. 1591. 2179. 1368. 2982. 2494. 2143. 2477. 1462. 2755.\n",
      " 1968. 1798. 1196. 1373. 1598. 1998. 1086. 1194. 1172. 1405. 1582.  999.\n",
      " 2487. 1999. 3604. 2987. 1995. 1451. 1969. 2967. 2497. 1797. 1991. 2362.\n",
      " 1493. 1599. 1341. 1794.  799. 1193. 2696. 1495. 1186. 1047. 2498. 2956.\n",
      " 2523. 1120.  624. 1496. 1984. 2354.  814.  793. 1799.  936. 1956. 1997.\n",
      " 1499. 1948. 2997. 2489. 2499. 2609. 2953. 1150. 1994. 1388. 1527. 2199.\n",
      "  995. 2993. 1586. 1390.  909. 2393. 3198. 1339. 2835. 2092. 1595. 2496.\n",
      " 1596. 1597. 2596. 2148. 1299. 1590. 2231. 2694. 2200. 1795. 1896. 1796.\n",
      " 1422. 1489. 2359. 2197. 2999. 1781. 2650. 1343. 2446. 3498. 2198. 2776.\n",
      " 1950.]\n",
      "======================\n",
      "Unique values of max_power\n",
      "[ 74.    103.52   78.     90.     88.2    81.86   57.5    37.     67.1\n",
      "  68.1   108.45   60.     73.9    67.     82.     88.5    46.3    88.73\n",
      "  64.1    98.6    88.8    83.81   83.1    47.3    73.8    34.2    35.\n",
      "  81.83   40.3   121.3   138.03  160.77  117.3   116.3    83.14   67.05\n",
      " 168.5   100.    120.7    98.63  175.56  103.25  171.5   100.6   174.33\n",
      " 187.74  170.     78.9    88.76   86.8   108.495 108.62   93.7   103.6\n",
      "  98.59  189.     67.04   68.05   58.2    82.85   81.8    73.    120.\n",
      "  94.68  160.     65.    155.     69.01  126.32  138.1    83.8   126.2\n",
      "  98.96   62.1    86.7   188.    214.56  177.    280.    148.31  254.79\n",
      " 190.    177.46  204.    141.    117.6   241.4   282.    150.    147.5\n",
      " 108.5   103.5   183.    181.04  157.7   164.7    91.1   400.     68.\n",
      "  75.     85.8    87.2    53.    118.    103.2    83.     84.     58.16\n",
      " 147.94   74.02   53.3    80.     88.7    97.7   121.36  162.    140.\n",
      "  94.    100.57   82.9    83.11   70.    153.86  121.    126.3    73.97\n",
      " 171.     69.     99.6   102.    105.     63.     79.4    97.9    63.1\n",
      "  66.1   110.    174.5    53.26   73.75   67.06   64.08   37.5   189.3\n",
      " 158.8    61.7    55.2    71.01   73.74  147.9    71.     77.    121.4\n",
      " 113.4    47.    130.     57.6   138.     52.8    53.64   53.5    76.8\n",
      "  82.4   113.42   76.     84.8    56.3   218.    112.     92.    105.5\n",
      " 169.     95.     72.4   115.    152.     91.2   156.     74.9    62.\n",
      " 105.3    73.94   85.    118.3    72.    147.51   58.     64.    126.24\n",
      "  76.9   194.3    99.23   89.84  123.7   118.35   99.    241.    136.\n",
      " 261.4   104.68   37.48  104.     63.12   91.7   102.5   177.6    45.\n",
      " 123.37  147.8   184.     84.48   68.07   74.96  167.6   152.87  112.2\n",
      "  83.83  197.    110.4   104.55  103.    103.3    66.    108.6   165.\n",
      " 163.7   116.9    94.93  127.    198.5   179.5   120.69  121.31  138.08\n",
      " 187.7    80.8    86.79   93.87  116.6   143.     92.7    88.     58.33\n",
      "  78.8    64.4   125.    139.01  254.8   181.    258.     55.23  270.9\n",
      " 265.    157.75  101.    186.    187.4   224.     64.9   148.     35.5\n",
      "  89.75   32.8    91.72  106.     98.97   66.6    86.     65.3    98.82\n",
      " 198.25   38.    142.    132.    174.57  178.    163.2   203.2   177.5\n",
      " 175.     57.     80.84   68.4   167.67  170.63   52.    149.5    48.21\n",
      "   0.    201.1   100.5   144.    194.4   168.7   104.5   103.26  116.4\n",
      "  98.79   80.9    58.3   272.    235.    167.62  170.3   139.46  158.\n",
      " 110.5    82.5   141.1    38.4   197.2   161.    194.    122.4   134.1\n",
      "  60.2   134.    203.    135.1  ]\n",
      "======================\n",
      "Unique values of seats\n",
      "[ 5.  4.  7.  8.  6.  9. 10. 14.  2.]\n",
      "======================\n"
     ]
    }
   ],
   "source": [
    "for col in cars_data.columns:\n",
    "    print('Unique values of ' + col)\n",
    "    print(cars_data[col].unique())\n",
    "    print(\"======================\")"
   ]
  },
  {
   "cell_type": "code",
   "execution_count": 30,
   "id": "a21f1b9e-2fc2-41f5-8296-6b602cde1f11",
   "metadata": {},
   "outputs": [],
   "source": [
    "cars_data['name'].replace(['Maruti', 'Skoda', 'Honda', 'Hyundai', 'Toyota', 'Ford', 'Renault',\n",
    "       'Mahindra', 'Tata', 'Chevrolet', 'Datsun', 'Jeep', 'Mercedes-Benz',\n",
    "       'Mitsubishi', 'Audi', 'Volkswagen', 'BMW', 'Nissan', 'Lexus',\n",
    "       'Jaguar', 'Land', 'MG', 'Volvo', 'Daewoo', 'Kia', 'Fiat', 'Force',\n",
    "       'Ambassador', 'Ashok', 'Isuzu', 'Opel'],\n",
    "                          [1,2,3,4,5,6,7,8,9,10,11,12,13,14,15,16,17,18,19,20,21,22,23,24,25,26,27,28,29,30,31]\n",
    "                          ,inplace=True)"
   ]
  },
  {
   "cell_type": "code",
   "execution_count": 31,
   "id": "e7385c57-b05a-4c51-a1ec-0ccbd16370ca",
   "metadata": {},
   "outputs": [
    {
     "data": {
      "text/plain": [
       "array(['Manual', 'Automatic'], dtype=object)"
      ]
     },
     "execution_count": 31,
     "metadata": {},
     "output_type": "execute_result"
    }
   ],
   "source": [
    "cars_data['transmission'].unique()"
   ]
  },
  {
   "cell_type": "code",
   "execution_count": 32,
   "id": "b3ed8ff1-2806-4bbc-b4b8-600385d2939a",
   "metadata": {},
   "outputs": [],
   "source": [
    "cars_data['transmission'].replace(['Manual', 'Automatic'],[1,2], inplace=True)"
   ]
  },
  {
   "cell_type": "code",
   "execution_count": 33,
   "id": "06eee268-5507-4a29-bb8a-d51870abe75f",
   "metadata": {},
   "outputs": [
    {
     "data": {
      "text/plain": [
       "array(['Individual', 'Dealer', 'Trustmark Dealer'], dtype=object)"
      ]
     },
     "execution_count": 33,
     "metadata": {},
     "output_type": "execute_result"
    }
   ],
   "source": [
    "cars_data['seller_type'].unique()"
   ]
  },
  {
   "cell_type": "code",
   "execution_count": 34,
   "id": "95e81db1-34fc-4f0b-ac10-441abde4ffde",
   "metadata": {},
   "outputs": [],
   "source": [
    "cars_data['seller_type'].replace(['Individual', 'Dealer', 'Trustmark Dealer'],[1,2,3], inplace=True)"
   ]
  },
  {
   "cell_type": "code",
   "execution_count": 35,
   "id": "59e068f4-99c7-4a8e-bfee-34b650f9e5a4",
   "metadata": {},
   "outputs": [
    {
     "name": "stdout",
     "output_type": "stream",
     "text": [
      "<class 'pandas.core.frame.DataFrame'>\n",
      "Index: 6718 entries, 0 to 8125\n",
      "Data columns (total 12 columns):\n",
      " #   Column         Non-Null Count  Dtype  \n",
      "---  ------         --------------  -----  \n",
      " 0   name           6718 non-null   int64  \n",
      " 1   year           6718 non-null   int64  \n",
      " 2   selling_price  6718 non-null   int64  \n",
      " 3   km_driven      6718 non-null   int64  \n",
      " 4   fuel           6718 non-null   object \n",
      " 5   seller_type    6718 non-null   int64  \n",
      " 6   transmission   6718 non-null   int64  \n",
      " 7   owner          6718 non-null   object \n",
      " 8   mileage        6718 non-null   float64\n",
      " 9   engine         6718 non-null   float64\n",
      " 10  max_power      6718 non-null   float64\n",
      " 11  seats          6718 non-null   float64\n",
      "dtypes: float64(4), int64(6), object(2)\n",
      "memory usage: 682.3+ KB\n"
     ]
    }
   ],
   "source": [
    "cars_data.info()"
   ]
  },
  {
   "cell_type": "code",
   "execution_count": 36,
   "id": "47a197d1-aa3c-4f1e-96f4-ee2be735892c",
   "metadata": {},
   "outputs": [
    {
     "data": {
      "text/plain": [
       "array(['Diesel', 'Petrol', 'LPG', 'CNG'], dtype=object)"
      ]
     },
     "execution_count": 36,
     "metadata": {},
     "output_type": "execute_result"
    }
   ],
   "source": [
    "cars_data['fuel'].unique()"
   ]
  },
  {
   "cell_type": "code",
   "execution_count": 37,
   "id": "32c025b0-9ee9-4638-aa1c-aad389f9ef71",
   "metadata": {},
   "outputs": [],
   "source": [
    "cars_data['fuel'].replace(['Diesel', 'Petrol', 'LPG', 'CNG'],[1,2,3,4], inplace=True)"
   ]
  },
  {
   "cell_type": "code",
   "execution_count": 38,
   "id": "2c56c15b-1301-4e99-97ee-2765f72e336a",
   "metadata": {},
   "outputs": [
    {
     "name": "stdout",
     "output_type": "stream",
     "text": [
      "<class 'pandas.core.frame.DataFrame'>\n",
      "Index: 6718 entries, 0 to 8125\n",
      "Data columns (total 12 columns):\n",
      " #   Column         Non-Null Count  Dtype  \n",
      "---  ------         --------------  -----  \n",
      " 0   name           6718 non-null   int64  \n",
      " 1   year           6718 non-null   int64  \n",
      " 2   selling_price  6718 non-null   int64  \n",
      " 3   km_driven      6718 non-null   int64  \n",
      " 4   fuel           6718 non-null   int64  \n",
      " 5   seller_type    6718 non-null   int64  \n",
      " 6   transmission   6718 non-null   int64  \n",
      " 7   owner          6718 non-null   object \n",
      " 8   mileage        6718 non-null   float64\n",
      " 9   engine         6718 non-null   float64\n",
      " 10  max_power      6718 non-null   float64\n",
      " 11  seats          6718 non-null   float64\n",
      "dtypes: float64(4), int64(7), object(1)\n",
      "memory usage: 682.3+ KB\n"
     ]
    }
   ],
   "source": [
    "cars_data.info()"
   ]
  },
  {
   "cell_type": "code",
   "execution_count": 39,
   "id": "8b247c1d-0081-4096-b6e9-6cf0d1db4ba2",
   "metadata": {},
   "outputs": [],
   "source": [
    "cars_data.reset_index(inplace=True)"
   ]
  },
  {
   "cell_type": "code",
   "execution_count": 40,
   "id": "fb79a599-4c87-4238-8b18-b4e024a64fa1",
   "metadata": {},
   "outputs": [
    {
     "data": {
      "text/html": [
       "<div>\n",
       "<style scoped>\n",
       "    .dataframe tbody tr th:only-of-type {\n",
       "        vertical-align: middle;\n",
       "    }\n",
       "\n",
       "    .dataframe tbody tr th {\n",
       "        vertical-align: top;\n",
       "    }\n",
       "\n",
       "    .dataframe thead th {\n",
       "        text-align: right;\n",
       "    }\n",
       "</style>\n",
       "<table border=\"1\" class=\"dataframe\">\n",
       "  <thead>\n",
       "    <tr style=\"text-align: right;\">\n",
       "      <th></th>\n",
       "      <th>index</th>\n",
       "      <th>name</th>\n",
       "      <th>year</th>\n",
       "      <th>selling_price</th>\n",
       "      <th>km_driven</th>\n",
       "      <th>fuel</th>\n",
       "      <th>seller_type</th>\n",
       "      <th>transmission</th>\n",
       "      <th>owner</th>\n",
       "      <th>mileage</th>\n",
       "      <th>engine</th>\n",
       "      <th>max_power</th>\n",
       "      <th>seats</th>\n",
       "    </tr>\n",
       "  </thead>\n",
       "  <tbody>\n",
       "    <tr>\n",
       "      <th>0</th>\n",
       "      <td>0</td>\n",
       "      <td>1</td>\n",
       "      <td>2014</td>\n",
       "      <td>450000</td>\n",
       "      <td>145500</td>\n",
       "      <td>1</td>\n",
       "      <td>1</td>\n",
       "      <td>1</td>\n",
       "      <td>First Owner</td>\n",
       "      <td>23.40</td>\n",
       "      <td>1248.0</td>\n",
       "      <td>74.00</td>\n",
       "      <td>5.0</td>\n",
       "    </tr>\n",
       "    <tr>\n",
       "      <th>1</th>\n",
       "      <td>1</td>\n",
       "      <td>2</td>\n",
       "      <td>2014</td>\n",
       "      <td>370000</td>\n",
       "      <td>120000</td>\n",
       "      <td>1</td>\n",
       "      <td>1</td>\n",
       "      <td>1</td>\n",
       "      <td>Second Owner</td>\n",
       "      <td>21.14</td>\n",
       "      <td>1498.0</td>\n",
       "      <td>103.52</td>\n",
       "      <td>5.0</td>\n",
       "    </tr>\n",
       "    <tr>\n",
       "      <th>2</th>\n",
       "      <td>2</td>\n",
       "      <td>3</td>\n",
       "      <td>2006</td>\n",
       "      <td>158000</td>\n",
       "      <td>140000</td>\n",
       "      <td>2</td>\n",
       "      <td>1</td>\n",
       "      <td>1</td>\n",
       "      <td>Third Owner</td>\n",
       "      <td>17.70</td>\n",
       "      <td>1497.0</td>\n",
       "      <td>78.00</td>\n",
       "      <td>5.0</td>\n",
       "    </tr>\n",
       "    <tr>\n",
       "      <th>3</th>\n",
       "      <td>3</td>\n",
       "      <td>4</td>\n",
       "      <td>2010</td>\n",
       "      <td>225000</td>\n",
       "      <td>127000</td>\n",
       "      <td>1</td>\n",
       "      <td>1</td>\n",
       "      <td>1</td>\n",
       "      <td>First Owner</td>\n",
       "      <td>23.00</td>\n",
       "      <td>1396.0</td>\n",
       "      <td>90.00</td>\n",
       "      <td>5.0</td>\n",
       "    </tr>\n",
       "    <tr>\n",
       "      <th>4</th>\n",
       "      <td>4</td>\n",
       "      <td>1</td>\n",
       "      <td>2007</td>\n",
       "      <td>130000</td>\n",
       "      <td>120000</td>\n",
       "      <td>2</td>\n",
       "      <td>1</td>\n",
       "      <td>1</td>\n",
       "      <td>First Owner</td>\n",
       "      <td>16.10</td>\n",
       "      <td>1298.0</td>\n",
       "      <td>88.20</td>\n",
       "      <td>5.0</td>\n",
       "    </tr>\n",
       "    <tr>\n",
       "      <th>...</th>\n",
       "      <td>...</td>\n",
       "      <td>...</td>\n",
       "      <td>...</td>\n",
       "      <td>...</td>\n",
       "      <td>...</td>\n",
       "      <td>...</td>\n",
       "      <td>...</td>\n",
       "      <td>...</td>\n",
       "      <td>...</td>\n",
       "      <td>...</td>\n",
       "      <td>...</td>\n",
       "      <td>...</td>\n",
       "      <td>...</td>\n",
       "    </tr>\n",
       "    <tr>\n",
       "      <th>6713</th>\n",
       "      <td>8121</td>\n",
       "      <td>1</td>\n",
       "      <td>2013</td>\n",
       "      <td>260000</td>\n",
       "      <td>50000</td>\n",
       "      <td>2</td>\n",
       "      <td>1</td>\n",
       "      <td>1</td>\n",
       "      <td>Second Owner</td>\n",
       "      <td>18.90</td>\n",
       "      <td>998.0</td>\n",
       "      <td>67.10</td>\n",
       "      <td>5.0</td>\n",
       "    </tr>\n",
       "    <tr>\n",
       "      <th>6714</th>\n",
       "      <td>8122</td>\n",
       "      <td>4</td>\n",
       "      <td>2014</td>\n",
       "      <td>475000</td>\n",
       "      <td>80000</td>\n",
       "      <td>1</td>\n",
       "      <td>1</td>\n",
       "      <td>1</td>\n",
       "      <td>Second Owner</td>\n",
       "      <td>22.54</td>\n",
       "      <td>1396.0</td>\n",
       "      <td>88.73</td>\n",
       "      <td>5.0</td>\n",
       "    </tr>\n",
       "    <tr>\n",
       "      <th>6715</th>\n",
       "      <td>8123</td>\n",
       "      <td>4</td>\n",
       "      <td>2013</td>\n",
       "      <td>320000</td>\n",
       "      <td>110000</td>\n",
       "      <td>2</td>\n",
       "      <td>1</td>\n",
       "      <td>1</td>\n",
       "      <td>First Owner</td>\n",
       "      <td>18.50</td>\n",
       "      <td>1197.0</td>\n",
       "      <td>82.85</td>\n",
       "      <td>5.0</td>\n",
       "    </tr>\n",
       "    <tr>\n",
       "      <th>6716</th>\n",
       "      <td>8124</td>\n",
       "      <td>4</td>\n",
       "      <td>2007</td>\n",
       "      <td>135000</td>\n",
       "      <td>119000</td>\n",
       "      <td>1</td>\n",
       "      <td>1</td>\n",
       "      <td>1</td>\n",
       "      <td>Fourth &amp; Above Owner</td>\n",
       "      <td>16.80</td>\n",
       "      <td>1493.0</td>\n",
       "      <td>110.00</td>\n",
       "      <td>5.0</td>\n",
       "    </tr>\n",
       "    <tr>\n",
       "      <th>6717</th>\n",
       "      <td>8125</td>\n",
       "      <td>1</td>\n",
       "      <td>2009</td>\n",
       "      <td>382000</td>\n",
       "      <td>120000</td>\n",
       "      <td>1</td>\n",
       "      <td>1</td>\n",
       "      <td>1</td>\n",
       "      <td>First Owner</td>\n",
       "      <td>19.30</td>\n",
       "      <td>1248.0</td>\n",
       "      <td>73.90</td>\n",
       "      <td>5.0</td>\n",
       "    </tr>\n",
       "  </tbody>\n",
       "</table>\n",
       "<p>6718 rows × 13 columns</p>\n",
       "</div>"
      ],
      "text/plain": [
       "      index  name  year  selling_price  km_driven  fuel  seller_type  \\\n",
       "0         0     1  2014         450000     145500     1            1   \n",
       "1         1     2  2014         370000     120000     1            1   \n",
       "2         2     3  2006         158000     140000     2            1   \n",
       "3         3     4  2010         225000     127000     1            1   \n",
       "4         4     1  2007         130000     120000     2            1   \n",
       "...     ...   ...   ...            ...        ...   ...          ...   \n",
       "6713   8121     1  2013         260000      50000     2            1   \n",
       "6714   8122     4  2014         475000      80000     1            1   \n",
       "6715   8123     4  2013         320000     110000     2            1   \n",
       "6716   8124     4  2007         135000     119000     1            1   \n",
       "6717   8125     1  2009         382000     120000     1            1   \n",
       "\n",
       "      transmission                 owner  mileage  engine  max_power  seats  \n",
       "0                1           First Owner    23.40  1248.0      74.00    5.0  \n",
       "1                1          Second Owner    21.14  1498.0     103.52    5.0  \n",
       "2                1           Third Owner    17.70  1497.0      78.00    5.0  \n",
       "3                1           First Owner    23.00  1396.0      90.00    5.0  \n",
       "4                1           First Owner    16.10  1298.0      88.20    5.0  \n",
       "...            ...                   ...      ...     ...        ...    ...  \n",
       "6713             1          Second Owner    18.90   998.0      67.10    5.0  \n",
       "6714             1          Second Owner    22.54  1396.0      88.73    5.0  \n",
       "6715             1           First Owner    18.50  1197.0      82.85    5.0  \n",
       "6716             1  Fourth & Above Owner    16.80  1493.0     110.00    5.0  \n",
       "6717             1           First Owner    19.30  1248.0      73.90    5.0  \n",
       "\n",
       "[6718 rows x 13 columns]"
      ]
     },
     "execution_count": 40,
     "metadata": {},
     "output_type": "execute_result"
    }
   ],
   "source": [
    "cars_data"
   ]
  },
  {
   "cell_type": "code",
   "execution_count": 41,
   "id": "ddea6f5f-1ac8-4bd6-b190-571d2c338de4",
   "metadata": {},
   "outputs": [
    {
     "data": {
      "text/plain": [
       "array(['First Owner', 'Second Owner', 'Third Owner',\n",
       "       'Fourth & Above Owner', 'Test Drive Car'], dtype=object)"
      ]
     },
     "execution_count": 41,
     "metadata": {},
     "output_type": "execute_result"
    }
   ],
   "source": [
    "cars_data['owner'].unique()"
   ]
  },
  {
   "cell_type": "code",
   "execution_count": 42,
   "id": "fdf49138-5e73-48ce-81a9-da4856cbaa40",
   "metadata": {},
   "outputs": [],
   "source": [
    "cars_data['owner'].replace(['First Owner', 'Second Owner', 'Third Owner',\n",
    "       'Fourth & Above Owner', 'Test Drive Car'],\n",
    "                           [1,2,3,4,5], inplace=True)"
   ]
  },
  {
   "cell_type": "code",
   "execution_count": 43,
   "id": "10c094cc-3f25-4130-9152-d25fd8badbc2",
   "metadata": {},
   "outputs": [],
   "source": [
    "cars_data.drop(columns=['index'], inplace=True)"
   ]
  },
  {
   "cell_type": "code",
   "execution_count": 44,
   "id": "7c180ea5-3de1-488a-9af6-3ee43a72513f",
   "metadata": {},
   "outputs": [
    {
     "name": "stdout",
     "output_type": "stream",
     "text": [
      "------------\n",
      "name\n",
      "[ 1  2  3  4  5  6  7  8  9 10 11 12 13 14 15 16 17 18 19 20 21 22 23 24\n",
      " 25 26 27 28 29 30 31]\n",
      "------------\n",
      "year\n",
      "[2014 2006 2010 2007 2017 2001 2011 2013 2005 2009 2016 2012 2002 2015\n",
      " 2018 2019 2008 2020 1999 2000 2003 2004 1994 1998 1997 1995 1996]\n",
      "------------\n",
      "selling_price\n",
      "[  450000   370000   158000   225000   130000   440000    96000    45000\n",
      "   350000   200000   500000    92000   280000   180000   400000   778000\n",
      "   150000   680000   174000   950000   525000   600000   575000   275000\n",
      "   300000   220000   254999   670000   730000   650000   330000   366000\n",
      "  1149000   425000  2100000   925000   675000   819999   390000  1500000\n",
      "   700000  1450000  1090000   850000  1650000  1750000  1590000  1689999\n",
      "  1425000   265000   190000   630000   540000   448000   745000  1025000\n",
      "   235000  1700000  1200000   610000  2500000   484999   315000   290000\n",
      "   455000   351000   535000   175000   565000   120000   725000   185000\n",
      "   615000   270000   625000   866000   375000   522000   451999   475000\n",
      "   780000   595000  1140000   360000   105000   135000   690000  3975000\n",
      "  5150000  3200000  4100000  4500000  6000000  3790000  5800000  1864999\n",
      "  2700000   795000  3400000  2650000  5850000   975000   805000  2625000\n",
      "   811000   550000   645000  2550000   599000   875000   894999   340000\n",
      "  1525000  2150000  1900000  2900000 10000000   160000   515000    40000\n",
      "   480000   487000   386000   100000   490000   345000    85000   215000\n",
      "   320000   459999    65000   720000   800000   520000   580000   420000\n",
      "  1250000   830000   335000   329000   775000   524000   245000   910000\n",
      "   900000   250000  1100000   640000   409999   165000    80000  1000000\n",
      "   110000   170000  1380000  1300000   530000   310000  1150000   380000\n",
      "   404000   114999   465000   210000  4600000   509999    90000   409000\n",
      "   395000    81000   555000   229999  1210000   325000    60000    89000\n",
      "   434999  3000000   570000  1550000    64000   140000   503000  3800000\n",
      "  2000000   740000   750000  5400000  5500000   779000  2475000   240000\n",
      "  1085000    95000  1290000   219000   260000   840000   292000   385000\n",
      "  1050000   735000   560000   585000   760000   430000   643000   285000\n",
      "   660000   268000    88000   561000   755000   125000  1600000   801000\n",
      "   317000   495000   236000  1800000   415000   217000   466000   605000\n",
      "  1350000   337000   655000   196000   299000   634000  1225000   238000\n",
      "   590000   195000   715000   168000   531000  1625000   145000   441000\n",
      "    67500   321000   298000  1075000   681000   810000   573000   101000\n",
      "  1019999   244000  1165000   241000   327000   620000   204999   576000\n",
      "   695000   231000   261000   371000   421000   710000  1040000   199000\n",
      "   305000  1745000   611000    75000    55000  1325000   885000   108000\n",
      "   272000  1125000   388000   757000   626000   793000  3750000  1400000\n",
      "  1925000   844999  2940000  1825000   890000   770000   467000   711000\n",
      "   511000   166000   392000   833000    35000   880000  1030000   521000\n",
      "   451000   472000   649000   429000  1576000   825000   470000  1560000\n",
      "  1950000   786000   731000   191000   651000   445000    93150   403000\n",
      "   144000    52000   302000   869999   155000   246000   405000    70000\n",
      "  3250000  1143000   635000  1575000   318000   152000   248000  1465000\n",
      "  1080000   678000  1460000   756000   665000  2950000   377000  1675000\n",
      "   169000   685000   749000   899000   259000   416000   773000   889000\n",
      "   118000   256000  1888000    99000  2280000    31504   295000   444000\n",
      "   860000  2450000   198000  2825000  2125000  3350000   365000   919999\n",
      "  2600000   839000  1594000   161000   423000   551000    50000   411000\n",
      "  1530000   376000  1850000    86000   822000    30000   252000   131000\n",
      "   128000   790000   604000  1175000   141000   151000   577000    83000\n",
      "   946000   356000   955000   978999   348000   399000   362000   499000\n",
      "   358000   278000   426000   211000  1270000   426999   960000  1031000\n",
      "    72000   479000   764000  2199000  3600000   184000   119000   267000\n",
      "   328000   112999    39000  2850000  2800000  3900000   221000   631000\n",
      "   308000   940000   361000   355000  7200000   930000  1670000   980000\n",
      "   486000   242000   654000   835000   408000    94500  1110000   438999\n",
      "   911999   693000   449000  1390000   698000   539000   765000   562000\n",
      "   571000   589000   227999  1151000  1295000  4090000   347000   493000\n",
      "   545000  1475000   287000  1630000   501000   181000  2711000  1035000\n",
      "   316000   813000  1190000   378000   156000   194000   754000    55599\n",
      "  1511000    78000   250999   312000    66000   369000   149000   752000\n",
      "   142000   111000   206000   567000   699000   632000   905000  1145000\n",
      "    58000   179000  1515000   178000   222000   387000  1405000   282000\n",
      "   458000   157000   497000  1227000   574000   121000  3100000    68000\n",
      "  1920000   808000   512000   671000   799000  1365000  1490000    80500\n",
      "   189000   892000    93000  1680000   667000   204000    42000   694000\n",
      "   861999   476999  5200000  2375000  2750000  1385000   785000  1275000\n",
      "  1748999   132000    33351  2064000   469000   906000   797000  6223000\n",
      "  5923000  6523000   122000   891000   346000   532000   974000   483000\n",
      "   138000   432000  1757000   412000   126000   736000   579000   187000\n",
      "  4000000  1898999   482000   401000   737000   291000   999000   957000\n",
      "   834000   297000   669000   616000   129000   115999   861000  3251000\n",
      "   911000   148000   433000   488000    67000   516000   136000    29999\n",
      "   124000  1938000   172000    59000  3500000   537000   849000   851000\n",
      "   597000   741000   556000   549000   679000   969999  1237000    31000\n",
      "   666000    54000   374000   455999   453000   258000   428000   262000\n",
      "   389000   339000   277000   578000   684000   949000   227000  5830000\n",
      "   721000   751000  2400000   990000  1282000  1147000   558000   722000\n",
      "   563000  2300000  2200000   488999   276000   434000   372000  1520000\n",
      "   202999   541000   254000   528000   102000   311000   977000  1251000\n",
      "  1445000    98000    59259   153000  1051000   591000   319000   454000\n",
      "  1160000  3300000   791000   802999  1789999  1044999   279000   944999\n",
      "  1859000  2175000   430999   803999   934000   357000   965000   341000\n",
      "    75527  1132000   352000   252999   313000   391000  2051000   212000\n",
      "  2575000  1516000   359000   209000  1220000  1180000    45957  1265000\n",
      "   382000   526000    90177    46000   307000   746000]\n",
      "------------\n",
      "km_driven\n",
      "[ 145500  120000  140000  127000   45000  175000    5000   90000  169000\n",
      "   68000  100000   40000   70000   53000   80000   50000   72000   35000\n",
      "   28000   25000    2388   16200   10000   15000   42000   60000   76000\n",
      "   28900   86300   23300   32600   10300   77000   99000   27800   49800\n",
      "  151000   54700   64000   63000  127700   33900   59000  110000  147000\n",
      "   30000  135000    9850   78000  170000   49000   32000   38000   44000\n",
      "   12000   55500   61500  150000   37800  114000   48000   69000   13000\n",
      "   76139   65000    1303   31800   20000   17000   21000   37000   29500\n",
      "    7500   19000   41000   39000   22000   47000   72200   49900    9000\n",
      "   11000   95000   18000   46100   16000    9654   24300   42163    8000\n",
      "   71000    9500   36600   14000  120600   86000    7800   31377   75000\n",
      "   93000  125000   13500  162500   92500  158000    2000  181000  193000\n",
      "  122358   95200   33033   63063  207890    7976   16500   99361   33000\n",
      "   80100  160000   26000   29000   58000   36000  185000  162000   67000\n",
      "   52000   68089   58343   38817   56494   79328    5621   25538   69779\n",
      "   56290    8500    7032  106000  240000  214000    1000  265000  134000\n",
      "    2136  250000  130000   99500  119000   44665  123000   34000  146000\n",
      "   85000  201850   46000  190000   43000   14200   19100   54000  101500\n",
      "   55735    1500  181491   53319   40906   31711   43755   66693   59549\n",
      "   94385   73730  221889  116104  150546  148120  142000  126000   24000\n",
      "  101000  168000  165000   98500   98000   77800   51492  136000   91000\n",
      "  167000  180000    6000   91500  132478   51000  105000  137500   88000\n",
      "  156060  107000   57000  300000  200000   18945  144000  107825    1620\n",
      "  141000  108000   55000   37944   90400   96000  193623   63186  219000\n",
      "   23000   94000  140500  143000  195000  360003    8079  114368   79990\n",
      "   81632  155201  101504   90165   86017   85036  125531  206000   49700\n",
      "   74000    6550   56000   41779   31000   13534    7000   28156   63309\n",
      "  155000   11500    3000  157000   27000   26300   89100  104000  210000\n",
      "  216000   84000  161000   72113  113000   96443   51500  104500   49102\n",
      "   81000  227000  117000    8576   19723   21446   52289   52236   54470\n",
      "   25471   33928   59736   54290    2118   61379   58544   74381   63982\n",
      "   56429   19500   56832   30528   65285   20102   52380   74250   57247\n",
      "  178000   42323   42462   54723   42545   20375   43978   40200   27233\n",
      "   28832  103000  142500  115000   35500   17500   92000    4500   83000\n",
      "    6750   18500   50478    9200    2300    4295    5229    4701    6757\n",
      "   28182   11533   11688   57728   23712   70670   43381   79011   58500\n",
      "   43500   12700   49455   46815  334000  100875  118000  128000  144030\n",
      "  176000   89000   97000   12800   65100   15200   82000  116500  145000\n",
      "   73000  113226  160500  132000  217000  139000    3500   62000 1500000\n",
      "  120005   16830   93468   16589   53201   25272   53619    6001  202000\n",
      "   71717   84321  177000  205000   41800   88700  188000  225000    5500\n",
      "    4875    2700   58511   26235   26766    1600   24522   13663   58945\n",
      "  375000  156975   27620  143200  138000  189000  156000   10800   67500\n",
      "  255000   71850  112000  159000   76131   51777   64788   46951   74537\n",
      "   23500   68600   13887   66000   24400   27500   67840  380000  112880\n",
      "   61915  184000    6200   16700    7967    9656   68609   33360   14317\n",
      "   87237   62960   26634  163720   67998   20706  100581   67303   79139\n",
      "   84784  130376   33500   22053   78432  270000    7200  117500   78500\n",
      "  115717    4000   26432   46702   46706   53523   56365   49563   56432\n",
      "   52365   53512   46533   58632   65300   39395  230000   32500   64800\n",
      "  248000   66444  218463  153000   87185  137000    3564   48756   80322\n",
      "  173000  148000    6500  220000  108957   22200  260000   42108   79000\n",
      "   17100   43001  100600   92385  116000   72500   82500   50600  121000\n",
      "  101903   85568    3100  186000   59300   89322   48300   23511   22512\n",
      "   62900   52442   34156   34152   62841   38600   27654   48698   32995\n",
      "   90150   85700   25339   41232   68240   92651   88754   23700   69500\n",
      "   28050   22947    7672   36659   44500    9900  124316    6544   49600\n",
      "  198000  103994   35008   31100   42312   54891   18890   75010    4337\n",
      "   14495   83585   48406   56239   33243   15858   87847   87000  112072\n",
      "   52269   15780 2360457  108800   12500  577414  121941  152186   82246\n",
      "   89580    2789   35278    2860   78562   36088  129000  500000  133000\n",
      "   64500   24500   45500   71500   93500   60300   44391   56315   15151\n",
      "  114321   37333  330000  291000   21500  197000   40300   30030   29029\n",
      "   72072   82082   80600   58609   33003  165500    5800   68700  102996\n",
      "   96500   52412   85472   87452   66530   32331  172000   23456  136500\n",
      "  111000   42500   47200  246000    5200   10500   93331  109000    5400\n",
      "  102000   29700    7600   29340   80800   24265   56900   88200   40800\n",
      "    8588  305000  212000  101200  179150   84487  264000   51146  298000\n",
      "  149000  291977   36800   52200  248200    7720   57882  242000   55380\n",
      "   18816   33019   47747   45900   68697  147279   24700   43526   55885\n",
      "   16034  156040   93415  122000   68519   22966    2350   59872   91182\n",
      "   59500   75500  152500   69123   77524   40523   23600  290000   24177\n",
      "  121779   15381   74800  109322  475000   61000   80500   65755    2600\n",
      "   15500   50700  440000  152000  200400    7300    9750  157138  285000\n",
      "  127991   13120   87500   62200   87540  231438  239451  154000  426000\n",
      "  182000  215000   77300   61260   17601    4773   57900    8600   78010\n",
      "   83844   23999   91400  178500   66953  166000  131000  100750   48676\n",
      "   79500  200185   49025   76460   47370   45217  222300   44600   28080\n",
      "   28800   21900   28100    7673   96272   22500    7400  370000  150360\n",
      "   42130  147500   56194   54188   54043   66657   35582   54327    7949\n",
      "   59734   49185   56389   58245   36422   42535   40736   56246   55403\n",
      "  105358   49200   81500    3177   39414   30078   44588   49907   67082\n",
      "  112879   10200    1300  175802  192000   73840  320000   24857   26442\n",
      "   50800   40142    9400   12584    4300   14548   44772   48500   28782\n",
      "   28451   36500   44885  131111   58400   23400    3010  163000   77088\n",
      "  136511   36710   28180   44077   55768  123278   26500   18484    2560\n",
      "  103655   56975  187000  218000   73257   26320   38426  116700  176062\n",
      "   77500   39500   55896   30400  164000  271000   75262   91863   47552\n",
      "   14700   19700  145241   95500   53473   75958   31596   85710  129627\n",
      "   55130   22522   51856   29434   34500    6825  112011   53534  248119\n",
      "   24019   19600  376412  183000  108916   59865   68140   53190   70100\n",
      "   47725   70195   77395   74321   80235   77150   61100   82300   82050\n",
      "   29899   59235  201000   77215   48228   58559   50856   18300   59292\n",
      "   21147   61173   91567   33400   92686   67600   49500  112048   30646\n",
      "   43011  104300   73500  280000   35700   22700   21871   55425   37659\n",
      "   37500   19800   45629   68850   45775   68203   97343   82507   59400\n",
      "  125876   56800   65204    2286   15732   49523   36521   64481   49060\n",
      "   37161   60175   49957   43235   50699       1   50074   30154   26263\n",
      "   84925   46357   46737  110048  186388   20171   37151   58161   50171\n",
      "   55161    9599   16151   28161   80868  194000  191000]\n",
      "------------\n",
      "fuel\n",
      "[1 2 3 4]\n",
      "------------\n",
      "seller_type\n",
      "[1 2 3]\n",
      "------------\n",
      "transmission\n",
      "[1 2]\n",
      "------------\n",
      "owner\n",
      "[1 2 3 4 5]\n",
      "------------\n",
      "mileage\n",
      "[23.4  21.14 17.7  23.   16.1  20.14 17.3  23.59 20.   19.01 19.3  18.9\n",
      " 18.15 24.52 19.7  22.54 21.   25.5  26.59 21.5  20.3  21.4  24.7  18.2\n",
      " 16.8  24.3  14.   18.6  33.44 23.95 17.   20.63 13.93 16.   17.8  18.5\n",
      " 12.55 12.99 14.8  13.5  26.   20.65 27.3  11.36 17.68 14.28 18.53 14.84\n",
      " 21.12 20.36 21.27 18.16 22.   25.1  20.51 21.66 25.2  22.9  16.02 20.54\n",
      " 22.77 15.71 23.1  19.02 19.81 26.2  16.47 15.04 19.1  21.79 18.8  21.21\n",
      " 15.37 11.79 19.   14.3  15.8  15.1  19.09 22.32 21.9  14.53 21.63 20.85\n",
      " 20.45 19.67 23.01 20.77 17.92 17.01 22.37 19.33  9.5  12.83 22.48 16.78\n",
      " 14.67 15.   13.96 18.   12.07 26.21 10.8  16.3  13.6  14.74 15.6  19.56\n",
      " 22.69 19.16 18.12 12.1  17.5  42.   20.4  21.1  19.44 13.   21.43 22.95\n",
      " 16.2  15.3  28.09 17.4  19.4  26.6  17.6  28.4  14.1  25.17 22.74 17.57\n",
      " 16.95 19.49 17.21 13.2  14.2  26.8  25.4  11.5  27.28 17.97 12.8  16.55\n",
      " 12.05 14.07 21.02 11.57 17.9  15.96 17.1  17.19 21.01 24.   25.6  21.38\n",
      " 23.84 23.08 14.24 20.71 15.64 14.5  16.34 27.39 11.1  13.9  20.88 20.92\n",
      " 23.8  24.4  15.29 21.19 22.5  19.6  23.65 25.32 23.5  16.6  23.9  20.8\n",
      " 27.62 12.9  25.44 17.88 22.7  17.2  15.42 19.68 18.7  15.4  19.34 22.71\n",
      " 25.8  13.7  12.2  18.49  9.    0.   13.58 10.1  20.5  25.   10.5  22.07\n",
      " 22.3  15.26 20.62 27.4  23.2  14.4  18.4  30.46 14.02 11.   20.6  22.05\n",
      " 20.2  18.1  22.1  19.87 13.01 18.06 26.1  16.52 13.55 24.2  25.83 11.2\n",
      " 17.09 21.03 17.45 21.64 21.94 13.87 19.98 20.52 23.57 11.7  17.43 18.88\n",
      " 13.68 11.18 20.89 11.8  19.62 21.7  14.9  19.5  10.91 15.7  20.73 15.85\n",
      " 20.7  14.23 16.5  17.36 12.6  16.36 14.95 16.9  19.2  16.96 22.15 18.78\n",
      " 19.61 17.71 18.3  19.12 19.72 12.   11.4  23.03 11.07 15.9  17.67 20.46\n",
      " 13.1  13.45 24.8  15.73 15.11 12.7  21.2  20.38 21.56 13.22 14.49 15.05\n",
      " 23.26 15.41 13.8  22.27 32.52 14.66 12.12 16.84 14.09 14.7  13.4  15.5\n",
      " 13.49 11.88 14.6  10.75 24.5  11.74 16.07 15.63 26.3  23.7  25.47 17.05\n",
      " 23.3  11.9  13.38 20.86 10.9  18.25 15.2  20.37 21.8  11.96 24.04 19.69\n",
      " 13.73 21.04 25.01 10.93 24.29 13.44 20.07 19.08 20.34 11.68 12.5  12.3\n",
      " 23.87 16.38 17.42 10.   18.24 10.71 19.59 16.7  19.83 21.76 16.05 20.28\n",
      " 16.25 16.73 18.48 14.99 18.76 16.4  19.64 14.94 17.11 22.8  32.26 33.\n",
      " 12.4  18.44 16.09 12.62 21.13 15.17 21.73 21.72 12.85 14.81 13.24 21.49\n",
      " 14.62 26.83 11.45 12.08 15.74 11.3  14.21 11.72 16.51]\n",
      "------------\n",
      "engine\n",
      "[1248. 1498. 1497. 1396. 1298. 1197. 1061.  796. 1364. 1399. 1461.  993.\n",
      " 1198. 1199.  998. 1591. 2179. 1368. 2982. 2494. 2143. 2477. 1462. 2755.\n",
      " 1968. 1798. 1196. 1373. 1598. 1998. 1086. 1194. 1172. 1405. 1582.  999.\n",
      " 2487. 1999. 3604. 2987. 1995. 1451. 1969. 2967. 2497. 1797. 1991. 2362.\n",
      " 1493. 1599. 1341. 1794.  799. 1193. 2696. 1495. 1186. 1047. 2498. 2956.\n",
      " 2523. 1120.  624. 1496. 1984. 2354.  814.  793. 1799.  936. 1956. 1997.\n",
      " 1499. 1948. 2997. 2489. 2499. 2609. 2953. 1150. 1994. 1388. 1527. 2199.\n",
      "  995. 2993. 1586. 1390.  909. 2393. 3198. 1339. 2835. 2092. 1595. 2496.\n",
      " 1596. 1597. 2596. 2148. 1299. 1590. 2231. 2694. 2200. 1795. 1896. 1796.\n",
      " 1422. 1489. 2359. 2197. 2999. 1781. 2650. 1343. 2446. 3498. 2198. 2776.\n",
      " 1950.]\n",
      "------------\n",
      "max_power\n",
      "[ 74.    103.52   78.     90.     88.2    81.86   57.5    37.     67.1\n",
      "  68.1   108.45   60.     73.9    67.     82.     88.5    46.3    88.73\n",
      "  64.1    98.6    88.8    83.81   83.1    47.3    73.8    34.2    35.\n",
      "  81.83   40.3   121.3   138.03  160.77  117.3   116.3    83.14   67.05\n",
      " 168.5   100.    120.7    98.63  175.56  103.25  171.5   100.6   174.33\n",
      " 187.74  170.     78.9    88.76   86.8   108.495 108.62   93.7   103.6\n",
      "  98.59  189.     67.04   68.05   58.2    82.85   81.8    73.    120.\n",
      "  94.68  160.     65.    155.     69.01  126.32  138.1    83.8   126.2\n",
      "  98.96   62.1    86.7   188.    214.56  177.    280.    148.31  254.79\n",
      " 190.    177.46  204.    141.    117.6   241.4   282.    150.    147.5\n",
      " 108.5   103.5   183.    181.04  157.7   164.7    91.1   400.     68.\n",
      "  75.     85.8    87.2    53.    118.    103.2    83.     84.     58.16\n",
      " 147.94   74.02   53.3    80.     88.7    97.7   121.36  162.    140.\n",
      "  94.    100.57   82.9    83.11   70.    153.86  121.    126.3    73.97\n",
      " 171.     69.     99.6   102.    105.     63.     79.4    97.9    63.1\n",
      "  66.1   110.    174.5    53.26   73.75   67.06   64.08   37.5   189.3\n",
      " 158.8    61.7    55.2    71.01   73.74  147.9    71.     77.    121.4\n",
      " 113.4    47.    130.     57.6   138.     52.8    53.64   53.5    76.8\n",
      "  82.4   113.42   76.     84.8    56.3   218.    112.     92.    105.5\n",
      " 169.     95.     72.4   115.    152.     91.2   156.     74.9    62.\n",
      " 105.3    73.94   85.    118.3    72.    147.51   58.     64.    126.24\n",
      "  76.9   194.3    99.23   89.84  123.7   118.35   99.    241.    136.\n",
      " 261.4   104.68   37.48  104.     63.12   91.7   102.5   177.6    45.\n",
      " 123.37  147.8   184.     84.48   68.07   74.96  167.6   152.87  112.2\n",
      "  83.83  197.    110.4   104.55  103.    103.3    66.    108.6   165.\n",
      " 163.7   116.9    94.93  127.    198.5   179.5   120.69  121.31  138.08\n",
      " 187.7    80.8    86.79   93.87  116.6   143.     92.7    88.     58.33\n",
      "  78.8    64.4   125.    139.01  254.8   181.    258.     55.23  270.9\n",
      " 265.    157.75  101.    186.    187.4   224.     64.9   148.     35.5\n",
      "  89.75   32.8    91.72  106.     98.97   66.6    86.     65.3    98.82\n",
      " 198.25   38.    142.    132.    174.57  178.    163.2   203.2   177.5\n",
      " 175.     57.     80.84   68.4   167.67  170.63   52.    149.5    48.21\n",
      "   0.    201.1   100.5   144.    194.4   168.7   104.5   103.26  116.4\n",
      "  98.79   80.9    58.3   272.    235.    167.62  170.3   139.46  158.\n",
      " 110.5    82.5   141.1    38.4   197.2   161.    194.    122.4   134.1\n",
      "  60.2   134.    203.    135.1  ]\n",
      "------------\n",
      "seats\n",
      "[ 5.  4.  7.  8.  6.  9. 10. 14.  2.]\n"
     ]
    }
   ],
   "source": [
    "for col in cars_data.columns:\n",
    "    print('------------')\n",
    "    print(col)\n",
    "    print(cars_data[col].unique())"
   ]
  },
  {
   "cell_type": "code",
   "execution_count": 45,
   "id": "692e2db0-62bd-4c2c-9d48-843ef3bd6d13",
   "metadata": {},
   "outputs": [
    {
     "data": {
      "text/plain": [
       "name             0\n",
       "year             0\n",
       "selling_price    0\n",
       "km_driven        0\n",
       "fuel             0\n",
       "seller_type      0\n",
       "transmission     0\n",
       "owner            0\n",
       "mileage          0\n",
       "engine           0\n",
       "max_power        0\n",
       "seats            0\n",
       "dtype: int64"
      ]
     },
     "execution_count": 45,
     "metadata": {},
     "output_type": "execute_result"
    }
   ],
   "source": [
    "cars_data.isnull().sum()"
   ]
  },
  {
   "cell_type": "code",
   "execution_count": 46,
   "id": "30a6958e-ec21-4591-aa7b-70940ee65902",
   "metadata": {},
   "outputs": [],
   "source": [
    "input_data = cars_data.drop(columns=['selling_price'])\n",
    "output_data =cars_data['selling_price']"
   ]
  },
  {
   "cell_type": "code",
   "execution_count": 47,
   "id": "00029783-7276-4690-8591-976f7a91439e",
   "metadata": {},
   "outputs": [],
   "source": [
    "x_train, x_test, y_train, y_test = train_test_split(input_data, output_data, test_size=0.2)"
   ]
  },
  {
   "cell_type": "code",
   "execution_count": 48,
   "id": "2839c4e9-2cc7-4f30-a720-fb78c483d817",
   "metadata": {},
   "outputs": [],
   "source": [
    "#model Creation"
   ]
  },
  {
   "cell_type": "code",
   "execution_count": 49,
   "id": "3f8b0a4c",
   "metadata": {},
   "outputs": [
    {
     "name": "stdout",
     "output_type": "stream",
     "text": [
      "<class 'pandas.core.frame.DataFrame'>\n",
      "RangeIndex: 6718 entries, 0 to 6717\n",
      "Data columns (total 12 columns):\n",
      " #   Column         Non-Null Count  Dtype  \n",
      "---  ------         --------------  -----  \n",
      " 0   name           6718 non-null   int64  \n",
      " 1   year           6718 non-null   int64  \n",
      " 2   selling_price  6718 non-null   int64  \n",
      " 3   km_driven      6718 non-null   int64  \n",
      " 4   fuel           6718 non-null   int64  \n",
      " 5   seller_type    6718 non-null   int64  \n",
      " 6   transmission   6718 non-null   int64  \n",
      " 7   owner          6718 non-null   int64  \n",
      " 8   mileage        6718 non-null   float64\n",
      " 9   engine         6718 non-null   float64\n",
      " 10  max_power      6718 non-null   float64\n",
      " 11  seats          6718 non-null   float64\n",
      "dtypes: float64(4), int64(8)\n",
      "memory usage: 629.9 KB\n"
     ]
    }
   ],
   "source": [
    "cars_data.info()"
   ]
  },
  {
   "cell_type": "code",
   "execution_count": 50,
   "id": "65eabbf0-9093-4f20-91cb-01a922a01eb4",
   "metadata": {},
   "outputs": [],
   "source": [
    "model = LinearRegression()"
   ]
  },
  {
   "cell_type": "code",
   "execution_count": 51,
   "id": "bbac90ef-12ee-4068-ab30-4203f208150a",
   "metadata": {},
   "outputs": [],
   "source": [
    "#Train MOdel"
   ]
  },
  {
   "cell_type": "code",
   "execution_count": 52,
   "id": "c2f10200-383c-4052-ac9f-f5ab8bf6d8da",
   "metadata": {},
   "outputs": [
    {
     "data": {
      "text/html": [
       "<style>#sk-container-id-1 {color: black;background-color: white;}#sk-container-id-1 pre{padding: 0;}#sk-container-id-1 div.sk-toggleable {background-color: white;}#sk-container-id-1 label.sk-toggleable__label {cursor: pointer;display: block;width: 100%;margin-bottom: 0;padding: 0.3em;box-sizing: border-box;text-align: center;}#sk-container-id-1 label.sk-toggleable__label-arrow:before {content: \"▸\";float: left;margin-right: 0.25em;color: #696969;}#sk-container-id-1 label.sk-toggleable__label-arrow:hover:before {color: black;}#sk-container-id-1 div.sk-estimator:hover label.sk-toggleable__label-arrow:before {color: black;}#sk-container-id-1 div.sk-toggleable__content {max-height: 0;max-width: 0;overflow: hidden;text-align: left;background-color: #f0f8ff;}#sk-container-id-1 div.sk-toggleable__content pre {margin: 0.2em;color: black;border-radius: 0.25em;background-color: #f0f8ff;}#sk-container-id-1 input.sk-toggleable__control:checked~div.sk-toggleable__content {max-height: 200px;max-width: 100%;overflow: auto;}#sk-container-id-1 input.sk-toggleable__control:checked~label.sk-toggleable__label-arrow:before {content: \"▾\";}#sk-container-id-1 div.sk-estimator input.sk-toggleable__control:checked~label.sk-toggleable__label {background-color: #d4ebff;}#sk-container-id-1 div.sk-label input.sk-toggleable__control:checked~label.sk-toggleable__label {background-color: #d4ebff;}#sk-container-id-1 input.sk-hidden--visually {border: 0;clip: rect(1px 1px 1px 1px);clip: rect(1px, 1px, 1px, 1px);height: 1px;margin: -1px;overflow: hidden;padding: 0;position: absolute;width: 1px;}#sk-container-id-1 div.sk-estimator {font-family: monospace;background-color: #f0f8ff;border: 1px dotted black;border-radius: 0.25em;box-sizing: border-box;margin-bottom: 0.5em;}#sk-container-id-1 div.sk-estimator:hover {background-color: #d4ebff;}#sk-container-id-1 div.sk-parallel-item::after {content: \"\";width: 100%;border-bottom: 1px solid gray;flex-grow: 1;}#sk-container-id-1 div.sk-label:hover label.sk-toggleable__label {background-color: #d4ebff;}#sk-container-id-1 div.sk-serial::before {content: \"\";position: absolute;border-left: 1px solid gray;box-sizing: border-box;top: 0;bottom: 0;left: 50%;z-index: 0;}#sk-container-id-1 div.sk-serial {display: flex;flex-direction: column;align-items: center;background-color: white;padding-right: 0.2em;padding-left: 0.2em;position: relative;}#sk-container-id-1 div.sk-item {position: relative;z-index: 1;}#sk-container-id-1 div.sk-parallel {display: flex;align-items: stretch;justify-content: center;background-color: white;position: relative;}#sk-container-id-1 div.sk-item::before, #sk-container-id-1 div.sk-parallel-item::before {content: \"\";position: absolute;border-left: 1px solid gray;box-sizing: border-box;top: 0;bottom: 0;left: 50%;z-index: -1;}#sk-container-id-1 div.sk-parallel-item {display: flex;flex-direction: column;z-index: 1;position: relative;background-color: white;}#sk-container-id-1 div.sk-parallel-item:first-child::after {align-self: flex-end;width: 50%;}#sk-container-id-1 div.sk-parallel-item:last-child::after {align-self: flex-start;width: 50%;}#sk-container-id-1 div.sk-parallel-item:only-child::after {width: 0;}#sk-container-id-1 div.sk-dashed-wrapped {border: 1px dashed gray;margin: 0 0.4em 0.5em 0.4em;box-sizing: border-box;padding-bottom: 0.4em;background-color: white;}#sk-container-id-1 div.sk-label label {font-family: monospace;font-weight: bold;display: inline-block;line-height: 1.2em;}#sk-container-id-1 div.sk-label-container {text-align: center;}#sk-container-id-1 div.sk-container {/* jupyter's `normalize.less` sets `[hidden] { display: none; }` but bootstrap.min.css set `[hidden] { display: none !important; }` so we also need the `!important` here to be able to override the default hidden behavior on the sphinx rendered scikit-learn.org. See: https://github.com/scikit-learn/scikit-learn/issues/21755 */display: inline-block !important;position: relative;}#sk-container-id-1 div.sk-text-repr-fallback {display: none;}</style><div id=\"sk-container-id-1\" class=\"sk-top-container\"><div class=\"sk-text-repr-fallback\"><pre>LinearRegression()</pre><b>In a Jupyter environment, please rerun this cell to show the HTML representation or trust the notebook. <br />On GitHub, the HTML representation is unable to render, please try loading this page with nbviewer.org.</b></div><div class=\"sk-container\" hidden><div class=\"sk-item\"><div class=\"sk-estimator sk-toggleable\"><input class=\"sk-toggleable__control sk-hidden--visually\" id=\"sk-estimator-id-1\" type=\"checkbox\" checked><label for=\"sk-estimator-id-1\" class=\"sk-toggleable__label sk-toggleable__label-arrow\">LinearRegression</label><div class=\"sk-toggleable__content\"><pre>LinearRegression()</pre></div></div></div></div></div>"
      ],
      "text/plain": [
       "LinearRegression()"
      ]
     },
     "execution_count": 52,
     "metadata": {},
     "output_type": "execute_result"
    }
   ],
   "source": [
    "model.fit(x_train, y_train)"
   ]
  },
  {
   "cell_type": "code",
   "execution_count": 53,
   "id": "1c4bc99d",
   "metadata": {},
   "outputs": [],
   "source": [
    "from sklearn.model_selection import train_test_split, cross_val_score\n",
    "from sklearn.linear_model import LinearRegression\n",
    "from sklearn.metrics import mean_squared_error, r2_score"
   ]
  },
  {
   "cell_type": "code",
   "execution_count": null,
   "id": "6f301678",
   "metadata": {},
   "outputs": [],
   "source": [
    "from sklearn.model_selection import train_test_split, cross_val_score\n",
    "from sklearn.linear_model import LinearRegression\n",
    "from sklearn.metrics import mean_squared_error, r2_score\n",
    "\n",
    "# Evaluate on training data\n",
    "train_pred = model.predict(x_train)\n",
    "train_r2 = r2_score(y_train, train_pred)\n",
    "train_mse = mean_squared_error(y_train, train_pred)\n",
    "\n",
    "# Evaluate on test data\n",
    "test_pred = model.predict(x_test)\n",
    "test_r2 = r2_score(y_test, test_pred)\n",
    "test_mse = mean_squared_error(y_test, test_pred)\n",
    "\n",
    "# Print results\n",
    "print(f\"Training R²: {train_r2:.4f}, Training MSE: {train_mse:.4f}\")\n",
    "print(f\"Testing R²: {test_r2:.4f}, Testing MSE: {test_mse:.4f}\")\n",
    "\n",
    "# Determine if model is underfitting or overfitting\n",
    "if train_r2 > 0.9 and test_r2 < 0.7:\n",
    "    print(\"The model is overfitting (high training score, low test score). Consider regularization.\")\n",
    "elif train_r2 < 0.7 and test_r2 < 0.7:\n",
    "    print(\"The model is underfitting (both scores are low). Consider adding features or using a more complex model.\")\n",
    "else:\n",
    "    print(\"The model has a good balance between training and test performance.\")\n",
    "\n",
    "model.score(x_test, y_test)"
   ]
  },
  {
   "cell_type": "code",
   "execution_count": 54,
   "id": "384a2b9a",
   "metadata": {},
   "outputs": [],
   "source": [
    "# Evaluate on training data\n",
    "train_pred = model.predict(x_train)\n",
    "train_r2 = r2_score(y_train, train_pred)\n",
    "train_mse = mean_squared_error(y_train, train_pred)"
   ]
  },
  {
   "cell_type": "code",
   "execution_count": 55,
   "id": "fa0c78e7-5573-40b1-b236-b626a7cb1a2f",
   "metadata": {},
   "outputs": [],
   "source": [
    "# Evaluate on test data\n",
    "test_pred = model.predict(x_test)\n",
    "test_r2 = r2_score(y_test, test_pred)\n",
    "test_mse = mean_squared_error(y_test, test_pred)"
   ]
  },
  {
   "cell_type": "code",
   "execution_count": 56,
   "id": "22b987fd",
   "metadata": {},
   "outputs": [
    {
     "name": "stdout",
     "output_type": "stream",
     "text": [
      "Training R²: 0.6054, Training MSE: 112840025782.3725\n",
      "Testing R²: 0.6729, Testing MSE: 74072314475.8456\n"
     ]
    }
   ],
   "source": [
    "# Print results\n",
    "print(f\"Training R²: {train_r2:.4f}, Training MSE: {train_mse:.4f}\")\n",
    "print(f\"Testing R²: {test_r2:.4f}, Testing MSE: {test_mse:.4f}\")"
   ]
  },
  {
   "cell_type": "code",
   "execution_count": 57,
   "id": "207e3c6a",
   "metadata": {},
   "outputs": [
    {
     "name": "stdout",
     "output_type": "stream",
     "text": [
      "The model is underfitting (both scores are low). Consider adding features or using a more complex model.\n"
     ]
    }
   ],
   "source": [
    "# Determine if model is underfitting or overfitting\n",
    "if train_r2 > 0.9 and test_r2 < 0.7:\n",
    "    print(\"The model is overfitting (high training score, low test score). Consider regularization.\")\n",
    "elif train_r2 < 0.7 and test_r2 < 0.7:\n",
    "    print(\"The model is underfitting (both scores are low). Consider adding features or using a more complex model.\")\n",
    "else:\n",
    "    print(\"The model has a good balance between training and test performance.\")"
   ]
  },
  {
   "cell_type": "code",
   "execution_count": 58,
   "id": "bba4ba98",
   "metadata": {},
   "outputs": [
    {
     "data": {
      "text/plain": [
       "0.6728627785786725"
      ]
     },
     "execution_count": 58,
     "metadata": {},
     "output_type": "execute_result"
    }
   ],
   "source": [
    "model.score(x_test, y_test)"
   ]
  },
  {
   "cell_type": "code",
   "execution_count": 59,
   "id": "95abe4a5-5320-40ae-b5a1-bdabb319d8aa",
   "metadata": {},
   "outputs": [
    {
     "data": {
      "text/html": [
       "<div>\n",
       "<style scoped>\n",
       "    .dataframe tbody tr th:only-of-type {\n",
       "        vertical-align: middle;\n",
       "    }\n",
       "\n",
       "    .dataframe tbody tr th {\n",
       "        vertical-align: top;\n",
       "    }\n",
       "\n",
       "    .dataframe thead th {\n",
       "        text-align: right;\n",
       "    }\n",
       "</style>\n",
       "<table border=\"1\" class=\"dataframe\">\n",
       "  <thead>\n",
       "    <tr style=\"text-align: right;\">\n",
       "      <th></th>\n",
       "      <th>name</th>\n",
       "      <th>year</th>\n",
       "      <th>km_driven</th>\n",
       "      <th>fuel</th>\n",
       "      <th>seller_type</th>\n",
       "      <th>transmission</th>\n",
       "      <th>owner</th>\n",
       "      <th>mileage</th>\n",
       "      <th>engine</th>\n",
       "      <th>max_power</th>\n",
       "      <th>seats</th>\n",
       "    </tr>\n",
       "  </thead>\n",
       "  <tbody>\n",
       "    <tr>\n",
       "      <th>652</th>\n",
       "      <td>1</td>\n",
       "      <td>2014</td>\n",
       "      <td>35000</td>\n",
       "      <td>2</td>\n",
       "      <td>1</td>\n",
       "      <td>1</td>\n",
       "      <td>1</td>\n",
       "      <td>23.1</td>\n",
       "      <td>998.0</td>\n",
       "      <td>67.04</td>\n",
       "      <td>5.0</td>\n",
       "    </tr>\n",
       "  </tbody>\n",
       "</table>\n",
       "</div>"
      ],
      "text/plain": [
       "     name  year  km_driven  fuel  seller_type  transmission  owner  mileage  \\\n",
       "652     1  2014      35000     2            1             1      1     23.1   \n",
       "\n",
       "     engine  max_power  seats  \n",
       "652   998.0      67.04    5.0  "
      ]
     },
     "execution_count": 59,
     "metadata": {},
     "output_type": "execute_result"
    }
   ],
   "source": [
    "x_train.head(1)"
   ]
  },
  {
   "cell_type": "code",
   "execution_count": 60,
   "id": "5fe11fba-6100-4756-859b-90aa1fa3bde1",
   "metadata": {},
   "outputs": [],
   "source": [
    "input_data_model = pd.DataFrame(\n",
    "    [[5,2022,12000,1,1,1,1,12.99,2494.0,100.6,5.0]],\n",
    "    columns=['name','year','km_driven','fuel','seller_type','transmission','owner','mileage','engine','max_power','seats'])"
   ]
  },
  {
   "cell_type": "code",
   "execution_count": 61,
   "id": "1e8d15d4-d0fb-4b97-83a8-d972306542c6",
   "metadata": {},
   "outputs": [
    {
     "data": {
      "text/html": [
       "<div>\n",
       "<style scoped>\n",
       "    .dataframe tbody tr th:only-of-type {\n",
       "        vertical-align: middle;\n",
       "    }\n",
       "\n",
       "    .dataframe tbody tr th {\n",
       "        vertical-align: top;\n",
       "    }\n",
       "\n",
       "    .dataframe thead th {\n",
       "        text-align: right;\n",
       "    }\n",
       "</style>\n",
       "<table border=\"1\" class=\"dataframe\">\n",
       "  <thead>\n",
       "    <tr style=\"text-align: right;\">\n",
       "      <th></th>\n",
       "      <th>name</th>\n",
       "      <th>year</th>\n",
       "      <th>km_driven</th>\n",
       "      <th>fuel</th>\n",
       "      <th>seller_type</th>\n",
       "      <th>transmission</th>\n",
       "      <th>owner</th>\n",
       "      <th>mileage</th>\n",
       "      <th>engine</th>\n",
       "      <th>max_power</th>\n",
       "      <th>seats</th>\n",
       "    </tr>\n",
       "  </thead>\n",
       "  <tbody>\n",
       "    <tr>\n",
       "      <th>0</th>\n",
       "      <td>5</td>\n",
       "      <td>2022</td>\n",
       "      <td>12000</td>\n",
       "      <td>1</td>\n",
       "      <td>1</td>\n",
       "      <td>1</td>\n",
       "      <td>1</td>\n",
       "      <td>12.99</td>\n",
       "      <td>2494.0</td>\n",
       "      <td>100.6</td>\n",
       "      <td>5.0</td>\n",
       "    </tr>\n",
       "  </tbody>\n",
       "</table>\n",
       "</div>"
      ],
      "text/plain": [
       "   name  year  km_driven  fuel  seller_type  transmission  owner  mileage  \\\n",
       "0     5  2022      12000     1            1             1      1    12.99   \n",
       "\n",
       "   engine  max_power  seats  \n",
       "0  2494.0      100.6    5.0  "
      ]
     },
     "execution_count": 61,
     "metadata": {},
     "output_type": "execute_result"
    }
   ],
   "source": [
    "input_data_model"
   ]
  },
  {
   "cell_type": "code",
   "execution_count": 62,
   "id": "c82dd3fc",
   "metadata": {},
   "outputs": [
    {
     "data": {
      "text/plain": [
       "array([ 470503.80673425,  503002.14288415,  446772.01414797,\n",
       "        636398.88000183,  371040.45259266, 1592393.57824178,\n",
       "         70939.34480238,  737970.44825998,  906742.11691591,\n",
       "        418964.92666937])"
      ]
     },
     "execution_count": 62,
     "metadata": {},
     "output_type": "execute_result"
    }
   ],
   "source": [
    "model.predict(x_test.head(10))"
   ]
  },
  {
   "cell_type": "code",
   "execution_count": 63,
   "id": "d3f8bd2a",
   "metadata": {},
   "outputs": [
    {
     "data": {
      "text/plain": [
       "4267     600000\n",
       "2449     350000\n",
       "2075     650000\n",
       "5641     715000\n",
       "6050     370000\n",
       "4313    1300000\n",
       "3826      80000\n",
       "3194     565000\n",
       "585     1100000\n",
       "5149     339000\n",
       "Name: selling_price, dtype: int64"
      ]
     },
     "execution_count": 63,
     "metadata": {},
     "output_type": "execute_result"
    }
   ],
   "source": [
    "y_test.head(10)"
   ]
  },
  {
   "cell_type": "code",
   "execution_count": 64,
   "id": "b432e857",
   "metadata": {},
   "outputs": [
    {
     "data": {
      "text/plain": [
       "-0.05763565783912217"
      ]
     },
     "execution_count": 64,
     "metadata": {},
     "output_type": "execute_result"
    }
   ],
   "source": [
    "from sklearn.svm import SVR\n",
    "m = SVR(kernel=\"poly\")\n",
    "m.fit(x_train, y_train)\n",
    "m.score(x_test, y_test)"
   ]
  },
  {
   "cell_type": "code",
   "execution_count": null,
   "id": "1b0d1ad8",
   "metadata": {},
   "outputs": [
    {
     "data": {
      "text/plain": [
       "0.9199340252060456"
      ]
     },
     "execution_count": 65,
     "metadata": {},
     "output_type": "execute_result"
    }
   ],
   "source": [
    "from sklearn.ensemble import GradientBoostingRegressor\n",
    "gm = GradientBoostingRegressor().fit(x_train, y_train)\n",
    "gm.score(x_test, y_test)"
   ]
  },
  {
   "cell_type": "code",
   "execution_count": 89,
   "id": "f9a3ee3a",
   "metadata": {},
   "outputs": [
    {
     "name": "stdout",
     "output_type": "stream",
     "text": [
      "Training R²: 0.9490, Training MSE: 14586821007.8246\n",
      "Testing R²: 0.9199, Testing MSE: 18129004208.0374\n",
      "The model has a good balance between training and test performance.\n"
     ]
    },
    {
     "data": {
      "text/plain": [
       "0.9199340252060456"
      ]
     },
     "execution_count": 89,
     "metadata": {},
     "output_type": "execute_result"
    }
   ],
   "source": [
    "from sklearn.metrics import mean_squared_error, r2_score\n",
    "\n",
    "# Evaluate on training data\n",
    "train_pred = gm.predict(x_train)\n",
    "train_r2 = r2_score(y_train, train_pred)\n",
    "train_mse = mean_squared_error(y_train, train_pred)\n",
    "\n",
    "# Evaluate on test data\n",
    "test_pred = gm.predict(x_test)\n",
    "test_r2 = r2_score(y_test, test_pred)\n",
    "test_mse = mean_squared_error(y_test, test_pred)\n",
    "\n",
    "# Print results\n",
    "print(f\"Training R²: {train_r2:.4f}, Training MSE: {train_mse:.4f}\")\n",
    "print(f\"Testing R²: {test_r2:.4f}, Testing MSE: {test_mse:.4f}\")\n",
    "\n",
    "# Determine if model is underfitting or overfitting\n",
    "if train_r2 > 0.9 and test_r2 < 0.7:\n",
    "    print(\"The model is overfitting (high training score, low test score). Consider regularization.\")\n",
    "elif train_r2 < 0.7 and test_r2 < 0.7:\n",
    "    print(\"The model is underfitting (both scores are low). Consider adding features or using a more complex model.\")\n",
    "else:\n",
    "    print(\"The model has a good balance between training and test performance.\")\n",
    "\n",
    "gm.score(x_test, y_test)"
   ]
  },
  {
   "cell_type": "code",
   "execution_count": 66,
   "id": "3c1188d5",
   "metadata": {},
   "outputs": [
    {
     "data": {
      "text/plain": [
       "0.8770246657597843"
      ]
     },
     "execution_count": 66,
     "metadata": {},
     "output_type": "execute_result"
    }
   ],
   "source": [
    "from sklearn.tree import DecisionTreeRegressor\n",
    "m1 = DecisionTreeRegressor()\n",
    "m1.fit(x_train, y_train)\n",
    "m1.score(x_test, y_test)"
   ]
  },
  {
   "cell_type": "code",
   "execution_count": 67,
   "id": "615759d8",
   "metadata": {},
   "outputs": [
    {
     "data": {
      "text/plain": [
       "0.9991965776474522"
      ]
     },
     "execution_count": 67,
     "metadata": {},
     "output_type": "execute_result"
    }
   ],
   "source": [
    "m1.score(x_train, y_train)"
   ]
  },
  {
   "cell_type": "code",
   "execution_count": 68,
   "id": "705778fb",
   "metadata": {},
   "outputs": [
    {
     "data": {
      "text/plain": [
       "<matplotlib.collections.PathCollection at 0x187b89c4410>"
      ]
     },
     "execution_count": 68,
     "metadata": {},
     "output_type": "execute_result"
    },
    {
     "data": {
      "image/png": "[encoded data removed]",
      "text/plain": [
       "<Figure size 640x480 with 1 Axes>"
      ]
     },
     "metadata": {},
     "output_type": "display_data"
    }
   ],
   "source": [
    "import matplotlib.pyplot as plt\n",
    "\n",
    "plt.scatter(y_test, m1.predict(x_test), color='blue', label='Predicted vs Actual')  # Scatter plot\n",
    "plt.scatter(y_test, y_test, color='red', linestyle='dashed', label='Perfect Prediction')  # Ideal line"
   ]
  },
  {
   "cell_type": "code",
   "execution_count": 69,
   "id": "4428a163-f09e-4e2e-a463-7f697295dc05",
   "metadata": {},
   "outputs": [
    {
     "data": {
      "text/plain": [
       "array([979344.42853856])"
      ]
     },
     "execution_count": 69,
     "metadata": {},
     "output_type": "execute_result"
    }
   ],
   "source": [
    "model.predict(input_data_model)"
   ]
  },
  {
   "cell_type": "code",
   "execution_count": 70,
   "id": "c2bc4d79",
   "metadata": {},
   "outputs": [
    {
     "data": {
      "text/plain": [
       "0.6728627785786725"
      ]
     },
     "execution_count": 70,
     "metadata": {},
     "output_type": "execute_result"
    }
   ],
   "source": [
    "model.score(x_test,y_test)"
   ]
  },
  {
   "cell_type": "code",
   "execution_count": 71,
   "id": "f5ea064e",
   "metadata": {},
   "outputs": [
    {
     "name": "stdout",
     "output_type": "stream",
     "text": [
      "Training R²: 0.6054, Training MSE: 112840025782.3721\n",
      "Testing R²: 0.6729, Testing MSE: 74072314475.9865\n",
      "The model is underfitting (both scores are low). Consider adding features or using a more complex model.\n"
     ]
    }
   ],
   "source": [
    "# Implementing Linear Regression Manually\n",
    "def linear_regression_manual(X, y):\n",
    "    X_b = np.c_[np.ones((X.shape[0], 1)), X]  # Add bias term\n",
    "    theta = np.linalg.inv(X_b.T.dot(X_b)).dot(X_b.T).dot(y)  # Normal equation\n",
    "    return theta\n",
    "\n",
    "def predict_manual(X, theta):\n",
    "    X_b = np.c_[np.ones((X.shape[0], 1)), X]  # Add bias term\n",
    "    return X_b.dot(theta)\n",
    "\n",
    "# Train model\n",
    "theta = linear_regression_manual(x_train, y_train)\n",
    "\n",
    "# Evaluate on training data\n",
    "train_pred = predict_manual(x_train, theta)\n",
    "train_mse = np.mean((y_train - train_pred) ** 2)\n",
    "train_r2 = 1 - (np.sum((y_train - train_pred) ** 2) / np.sum((y_train - np.mean(y_train)) ** 2))\n",
    "\n",
    "# Evaluate on test data\n",
    "test_pred = predict_manual(x_test, theta)\n",
    "test_mse = np.mean((y_test - test_pred) ** 2)\n",
    "test_r2 = 1 - (np.sum((y_test - test_pred) ** 2) / np.sum((y_test - np.mean(y_test)) ** 2))\n",
    "\n",
    "# Print results\n",
    "print(f\"Training R²: {train_r2:.4f}, Training MSE: {train_mse:.4f}\")\n",
    "print(f\"Testing R²: {test_r2:.4f}, Testing MSE: {test_mse:.4f}\")\n",
    "\n",
    "# Determine if model is underfitting or overfitting\n",
    "if train_r2 > 0.9 and test_r2 < 0.7:\n",
    "    print(\"The model is overfitting (high training score, low test score). Consider regularization.\")\n",
    "elif train_r2 < 0.7 and test_r2 < 0.7:\n",
    "    print(\"The model is underfitting (both scores are low). Consider adding features or using a more complex model.\")\n",
    "else:\n",
    "    print(\"The model has a good balance between training and test performance.\")"
   ]
  },
  {
   "cell_type": "code",
   "execution_count": null,
   "id": "a98f14d0",
   "metadata": {},
   "outputs": [
    {
     "name": "stdout",
     "output_type": "stream",
     "text": [
      "Cross-Validation R2 Scores: [0.76351731 0.82994015 0.8234534  0.84825834 0.7964522 ]\n",
      "Mean R2 Score: 0.8123242806785301\n"
     ]
    }
   ],
   "source": [
    "from sklearn.model_selection import cross_val_score\n",
    "\n",
    "cv_scores = cross_val_score(m1, x_train, y_train, cv=5, scoring='r2')  # 5-fold CV\n",
    "print(\"Cross-Validation R2 Scores:\", cv_scores)\n",
    "print(\"Mean R2 Score:\", cv_scores.mean())"
   ]
  },
  {
   "cell_type": "code",
   "execution_count": null,
   "id": "5b7fbd38",
   "metadata": {},
   "outputs": [
    {
     "name": "stdout",
     "output_type": "stream",
     "text": [
      "R² Score: 0.8770\n",
      "MAE: 96575.2479\n",
      "MSE: 27844791219.5283\n",
      "RMSE: 166867.5859\n"
     ]
    }
   ],
   "source": [
    "from sklearn.metrics import r2_score, mean_absolute_error, mean_squared_error\n",
    "import numpy as np\n",
    "\n",
    "y_pred = m1.predict(x_test)\n",
    "\n",
    "r2 = r2_score(y_test, y_pred)\n",
    "mae = mean_absolute_error(y_test, y_pred)\n",
    "mse = mean_squared_error(y_test, y_pred)\n",
    "rmse = np.sqrt(mse)\n",
    "\n",
    "print(f\"R² Score: {r2:.4f}\")\n",
    "print(f\"MAE: {mae:.4f}\")\n",
    "print(f\"MSE: {mse:.4f}\")\n",
    "print(f\"RMSE: {rmse:.4f}\")"
   ]
  },
  {
   "cell_type": "code",
   "execution_count": null,
   "id": "d7f404d9",
   "metadata": {},
   "outputs": [
    {
     "name": "stdout",
     "output_type": "stream",
     "text": [
      "Best Parameters: {'max_depth': 10, 'min_samples_leaf': 1, 'min_samples_split': 10}\n",
      "Best Cross-Validation Score: 0.8485090162208199\n",
      "Test Score: 0.8800758508065603\n"
     ]
    }
   ],
   "source": [
    "# Hyperparameter Tuning\n",
    "from sklearn.model_selection import GridSearchCV\n",
    "\n",
    "param_grid = {\n",
    "    'max_depth': [3, 5, 10, None],\n",
    "    'min_samples_split': [2, 5, 10],\n",
    "    'min_samples_leaf': [1, 2, 4],\n",
    "}\n",
    "\n",
    "grid_search = GridSearchCV(DecisionTreeRegressor(), param_grid, cv=5, scoring='r2', n_jobs=-1)\n",
    "grid_search.fit(x_train, y_train)\n",
    "\n",
    "print(\"Best Parameters:\", grid_search.best_params_)\n",
    "print(\"Best Cross-Validation Score:\", grid_search.best_score_)\n",
    "print(\"Test Score:\", grid_search.score(x_test, y_test))"
   ]
  },
  {
   "cell_type": "code",
   "execution_count": null,
   "id": "b27c99da",
   "metadata": {},
   "outputs": [
    {
     "data": {
      "image/png": "[encoded data removed]",
      "text/plain": [
       "<Figure size 700x500 with 1 Axes>"
      ]
     },
     "metadata": {},
     "output_type": "display_data"
    }
   ],
   "source": [
    "import matplotlib.pyplot as plt\n",
    "import seaborn as sns\n",
    "\n",
    "y_pred = m1.predict(x_test)\n",
    "\n",
    "plt.figure(figsize=(7, 5))\n",
    "sns.scatterplot(x=y_test, y=y_pred, color='blue', alpha=0.6)\n",
    "plt.plot([min(y_test), max(y_test)], [min(y_test), max(y_test)], '--r')  # Ideal line\n",
    "plt.xlabel(\"Actual Values\")\n",
    "plt.ylabel(\"Predicted Values\")\n",
    "plt.title(\"Actual vs. Predicted Plot\")\n",
    "plt.show()"
   ]
  },
  {
   "cell_type": "code",
   "execution_count": 76,
   "id": "e5197746",
   "metadata": {},
   "outputs": [],
   "source": [
    "y_pred = m1.predict(x_test)"
   ]
  },
  {
   "cell_type": "code",
   "execution_count": null,
   "id": "0eeecb86",
   "metadata": {},
   "outputs": [],
   "source": [
    "residuals = y_test - y_pred  # Define residuals properly"
   ]
  },
  {
   "cell_type": "code",
   "execution_count": null,
   "id": "b7a4ee21",
   "metadata": {},
   "outputs": [
    {
     "name": "stderr",
     "output_type": "stream",
     "text": [
      "e:\\Anaconda\\Lib\\site-packages\\seaborn\\_oldcore.py:1119: FutureWarning: use_inf_as_na option is deprecated and will be removed in a future version. Convert inf values to NaN before operating instead.\n",
      "  with pd.option_context('mode.use_inf_as_na', True):\n"
     ]
    },
    {
     "data": {
      "image/png": "[encoded data removed]",
      "text/plain": [
       "<Figure size 700x500 with 1 Axes>"
      ]
     },
     "metadata": {},
     "output_type": "display_data"
    }
   ],
   "source": [
    "plt.figure(figsize=(7, 5))\n",
    "sns.histplot(residuals, bins=30, kde=True, color='purple')\n",
    "plt.xlabel(\"Residuals\")\n",
    "plt.ylabel(\"Frequency\")\n",
    "plt.title(\"Residuals Distribution\")\n",
    "plt.show()"
   ]
  },
  {
   "cell_type": "code",
   "execution_count": null,
   "id": "3f130890",
   "metadata": {},
   "outputs": [
    {
     "data": {
      "image/png": "[encoded data removed]",
      "text/plain": [
       "<Figure size 800x500 with 1 Axes>"
      ]
     },
     "metadata": {},
     "output_type": "display_data"
    }
   ],
   "source": [
    "import numpy as np\n",
    "\n",
    "feature_importances = m1.feature_importances_  # Only for tree-based models\n",
    "feature_names = x_train.columns\n",
    "\n",
    "plt.figure(figsize=(8, 5))\n",
    "sns.barplot(x=feature_importances, y=feature_names, palette=\"viridis\")\n",
    "plt.xlabel(\"Feature Importance\")\n",
    "plt.ylabel(\"Feature Name\")\n",
    "plt.title(\"Feature Importance Plot\")\n",
    "plt.show()"
   ]
  },
  {
   "cell_type": "code",
   "execution_count": 87,
   "id": "0305bf59",
   "metadata": {},
   "outputs": [
    {
     "name": "stderr",
     "output_type": "stream",
     "text": [
      "e:\\Anaconda\\Lib\\site-packages\\seaborn\\_oldcore.py:1765: FutureWarning: unique with argument that is not not a Series, Index, ExtensionArray, or np.ndarray is deprecated and will raise in a future version.\n",
      "  order = pd.unique(vector)\n"
     ]
    },
    {
     "data": {
      "image/png": "[encoded data removed]",
      "text/plain": [
       "<Figure size 700x500 with 1 Axes>"
      ]
     },
     "metadata": {},
     "output_type": "display_data"
    }
   ],
   "source": [
    "from sklearn.ensemble import RandomForestRegressor, GradientBoostingRegressor\n",
    "models = {\n",
    "    \"Decision Tree\": m1,\n",
    "    \"Random Forest\": RandomForestRegressor().fit(x_train, y_train),\n",
    "    \"Gradient Boosting\": GradientBoostingRegressor().fit(x_train, y_train),\n",
    "}\n",
    "\n",
    "r2_scores = {name: r2_score(y_test, model.predict(x_test)) for name, model in models.items()}\n",
    "\n",
    "plt.figure(figsize=(7, 5))\n",
    "sns.barplot(x=list(r2_scores.keys()), y=list(r2_scores.values()), palette=\"coolwarm\")\n",
    "plt.xlabel(\"Model Name\")\n",
    "plt.ylabel(\"R² Score\")\n",
    "plt.title(\"Model Comparison (R² Score)\")\n",
    "plt.show()"
   ]
  },
  {
   "cell_type": "code",
   "execution_count": 81,
   "id": "95cec280",
   "metadata": {},
   "outputs": [],
   "source": [
    "import joblib\n",
    "\n",
    "# Save the model\n",
    "joblib.dump(m1, 'decision_tree_regressor.pkl')\n",
    "\n",
    "# Load the model later when needed\n",
    "loaded_model = joblib.load('decision_tree_regressor.pkl')\n",
    "\n",
    "# Test the loaded model\n",
    "y_pred_loaded = loaded_model.predict(x_test)\n"
   ]
  },
  {
   "cell_type": "code",
   "execution_count": 82,
   "id": "72f8cc2a",
   "metadata": {},
   "outputs": [],
   "source": [
    "import joblib\n",
    "\n",
    "# Save the model\n",
    "joblib.dump(gm, 'gradient_boosting_regressor.pkl')\n",
    "\n",
    "# Load the model later when needed\n",
    "loaded_model = joblib.load('gradient_boosting_regressor.pkl')\n",
    "\n",
    "# Test the loaded model\n",
    "y_pred_loaded = loaded_model.predict(x_test)\n"
   ]
  },
  {
   "cell_type": "code",
   "execution_count": 83,
   "id": "f7c009f5",
   "metadata": {},
   "outputs": [
    {
     "data": {
      "text/plain": [
       "array([470000., 350000., 525000., 650000., 225000.])"
      ]
     },
     "execution_count": 83,
     "metadata": {},
     "output_type": "execute_result"
    }
   ],
   "source": [
    "m1.predict(x_test.head(5))"
   ]
  },
  {
   "cell_type": "code",
   "execution_count": 84,
   "id": "89791572",
   "metadata": {},
   "outputs": [
    {
     "data": {
      "text/plain": [
       "4267    600000\n",
       "2449    350000\n",
       "2075    650000\n",
       "5641    715000\n",
       "6050    370000\n",
       "Name: selling_price, dtype: int64"
      ]
     },
     "execution_count": 84,
     "metadata": {},
     "output_type": "execute_result"
    }
   ],
   "source": [
    "y_test.head(5)"
   ]
  },
  {
   "cell_type": "code",
   "execution_count": 85,
   "id": "4af75372",
   "metadata": {},
   "outputs": [
    {
     "data": {
      "text/plain": [
       "array([509015.55805503, 419900.13222174, 462659.4537739 , 641642.91182598,\n",
       "       381675.99849749])"
      ]
     },
     "execution_count": 85,
     "metadata": {},
     "output_type": "execute_result"
    }
   ],
   "source": [
    "gm.predict(x_test.head(5))"
   ]
  }
 ],
 "metadata": {
  "kernelspec": {
   "display_name": "base",
   "language": "python",
   "name": "python3"
  },
  "language_info": {
   "codemirror_mode": {
    "name": "ipython",
    "version": 3
   },
   "file_extension": ".py",
   "mimetype": "text/x-python",
   "name": "python",
   "nbconvert_exporter": "python",
   "pygments_lexer": "ipython3",
   "version": "3.11.7"
  }
 },
 "nbformat": 4,
 "nbformat_minor": 5
}
